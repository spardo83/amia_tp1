{
 "cells": [
  {
   "cell_type": "markdown",
   "id": "182a215d",
   "metadata": {},
   "source": [
    "# Librerias"
   ]
  },
  {
   "cell_type": "code",
   "execution_count": 1,
   "id": "0ee21a87",
   "metadata": {},
   "outputs": [],
   "source": [
    "import numpy as np\n",
    "from numpy import linalg as LA\n",
    "import matplotlib.pyplot as plt\n",
    "from sklearn.metrics import accuracy_score, confusion_matrix, classification_report\n",
    "\n",
    "from utils.datasets import (get_wine_dataset, label_encode, split_transpose)\n",
    "from base.qda import QDA"
   ]
  },
  {
   "cell_type": "markdown",
   "id": "912f39a0",
   "metadata": {},
   "source": [
    "# Dataset Wine"
   ]
  },
  {
   "cell_type": "markdown",
   "id": "7b12479d",
   "metadata": {},
   "source": [
    "## Carga"
   ]
  },
  {
   "cell_type": "code",
   "execution_count": null,
   "id": "8a9c3be1",
   "metadata": {},
   "outputs": [
    {
     "name": "stdout",
     "output_type": "stream",
     "text": [
      "Cantidad de muestras: 178\n",
      "Cantidad de características: 13\n",
      "Cantidad de clases: 3\n",
      "Nombres caracteristicas: ['alcohol', 'malic_acid', 'ash', 'alcalinity_of_ash', 'magnesium', 'total_phenols', 'flavanoids', 'nonflavanoid_phenols', 'proanthocyanins', 'color_intensity', 'hue', 'od280/od315_of_diluted_wines', 'proline']\n",
      "Nombres clases: ['class_0' 'class_1' 'class_2']\n",
      "Muestras por clase: {'class_0': 59, 'class_1': 71, 'class_2': 48}\n"
     ]
    }
   ],
   "source": [
    "X_full, y_full, feature_names, label_names = get_wine_dataset()\n",
    "X_full.shape, y_full.shape\n",
    "\n",
    "# Información básica\n",
    "n_obs, n_features = X_full.shape\n",
    "print(f\"Cantidad de muestras: {n_obs}\")\n",
    "print(f\"Cantidad de características: {n_features}\")\n",
    "print(f\"Cantidad de clases: {len(class_names)}\")\n",
    "print(f\"Nombres caracteristicas: {feature_names}\")\n",
    "print(f\"Nombres clases: {class_names}\")\n",
    "unique_classes, counts = np.unique(y_full, return_counts=True)\n",
    "class_counts = dict(zip(unique_classes, counts))\n",
    "print(\"Muestras por clase:\", class_counts)"
   ]
  },
  {
   "cell_type": "markdown",
   "id": "6932d07e",
   "metadata": {},
   "source": [
    "# Clasificacion"
   ]
  },
  {
   "cell_type": "code",
   "execution_count": 3,
   "id": "94d77e6b",
   "metadata": {},
   "outputs": [
    {
     "name": "stdout",
     "output_type": "stream",
     "text": [
      "X_train shape: (13, 124)\n",
      "X_test  shape: (13, 54)\n",
      "y_train shape: (1, 124)\n",
      "y_test  shape: (1, 54)\n",
      "Probabilidad a priori de cada clase: [0.39516129 0.33870968 0.26612903]\n",
      "Log-Probabilidad a priori de cada clase: [-0.92846127 -1.08261195 -1.323774  ]\n",
      "Cantidad de Inversas de la covarianza: 3 [Formato: (13, 13)]\n",
      "Cantidad de medias: 3 [Formato: (13, 1)]\n"
     ]
    }
   ],
   "source": [
    "# Codifica etiquetas\n",
    "\n",
    "y_full_encoded = label_encode(y_full)\n",
    "\n",
    "# Separa train y test\n",
    "\n",
    "X_train, X_test, y_train, y_test = split_transpose(X_full, y_full_encoded, 0.300, 1265)\n",
    "\n",
    "print(\"X_train shape:\", X_train.shape)\n",
    "print(\"X_test  shape:\", X_test.shape)\n",
    "print(\"y_train shape:\", y_train.shape)\n",
    "print(\"y_test  shape:\", y_test.shape)\n",
    "\n",
    "# Crea clasificador\n",
    "\n",
    "qda = QDA()\n",
    "\n",
    "# Entrena\n",
    "\n",
    "qda.fit(X_train, y_train)\n",
    "\n",
    "# Evalua\n",
    "\n",
    "y_predict = qda.predict(X_test)\n"
   ]
  },
  {
   "cell_type": "markdown",
   "id": "30871ce2",
   "metadata": {},
   "source": [
    "# Metricas"
   ]
  },
  {
   "cell_type": "code",
   "execution_count": 4,
   "id": "f095192b",
   "metadata": {},
   "outputs": [
    {
     "name": "stdout",
     "output_type": "stream",
     "text": [
      "Accuracy: 0.9815\n",
      "\n",
      "Matriz de confusión:\n",
      "[[10  0  0]\n",
      " [ 1 28  0]\n",
      " [ 0  0 15]]\n",
      "\n",
      "Reporte de clasificación:\n",
      "              precision    recall  f1-score   support\n",
      "\n",
      "           0       0.91      1.00      0.95        10\n",
      "           1       1.00      0.97      0.98        29\n",
      "           2       1.00      1.00      1.00        15\n",
      "\n",
      "    accuracy                           0.98        54\n",
      "   macro avg       0.97      0.99      0.98        54\n",
      "weighted avg       0.98      0.98      0.98        54\n",
      "\n"
     ]
    },
    {
     "data": {
      "image/png": "[encoded data removed]",
      "text/plain": [
       "<Figure size 640x480 with 2 Axes>"
      ]
     },
     "metadata": {},
     "output_type": "display_data"
    }
   ],
   "source": [
    "# Si y_predict y y_test tienen forma (1, n_obs), aplanarlos para métricas\n",
    "y_pred_flat = y_predict.flatten()\n",
    "y_test_flat = y_test.flatten()\n",
    "\n",
    "# Accuracy\n",
    "acc = accuracy_score(y_test_flat, y_pred_flat)\n",
    "print(f\"Accuracy: {acc:.4f}\")\n",
    "\n",
    "# Matriz de confusión\n",
    "cm = confusion_matrix(y_test_flat, y_pred_flat)\n",
    "print(\"\\nMatriz de confusión:\")\n",
    "print(cm)\n",
    "\n",
    "# Reporte de clasificación (Precision, Recall, F1 por clase)\n",
    "print(\"\\nReporte de clasificación:\")\n",
    "print(classification_report(y_test_flat, y_pred_flat))\n",
    "\n",
    "# Visualizar matriz de confusión\n",
    "fig, ax = plt.subplots()\n",
    "im = ax.imshow(cm, cmap='Blues')\n",
    "\n",
    "ax.set_title(\"Matriz de confusión (QDA)\")\n",
    "ax.set_xlabel(\"Predicción\")\n",
    "ax.set_ylabel(\"Verdadero\")\n",
    "ax.set_xticks(range(len(np.unique(y_test_flat))))\n",
    "ax.set_yticks(range(len(np.unique(y_test_flat))))\n",
    "ax.set_xticklabels(np.unique(y_test_flat))\n",
    "ax.set_yticklabels(np.unique(y_test_flat))\n",
    "\n",
    "# Anotar valores dentro de las celdas\n",
    "for i in range(cm.shape[0]):\n",
    "    for j in range(cm.shape[1]):\n",
    "        ax.text(j, i, cm[i, j], ha=\"center\", va=\"center\", color=\"black\")\n",
    "\n",
    "fig.colorbar(im)\n",
    "plt.tight_layout()\n",
    "plt.show()\n",
    "\n"
   ]
  }
 ],
 "metadata": {
  "kernelspec": {
   "display_name": "base",
   "language": "python",
   "name": "python3"
  },
  "language_info": {
   "codemirror_mode": {
    "name": "ipython",
    "version": 3
   },
   "file_extension": ".py",
   "mimetype": "text/x-python",
   "name": "python",
   "nbconvert_exporter": "python",
   "pygments_lexer": "ipython3",
   "version": "3.12.7"
  }
 },
 "nbformat": 4,
 "nbformat_minor": 5
}
