{
 "cells": [
  {
   "cell_type": "markdown",
   "id": "182a215d",
   "metadata": {},
   "source": [
    "# Librerías"
   ]
  },
  {
   "cell_type": "code",
   "execution_count": 1,
   "id": "0ee21a87",
   "metadata": {},
   "outputs": [],
   "source": [
    "import numpy as np\n",
    "import sys\n",
    "import os\n",
    "\n",
    "sys.path.append(os.path.abspath(\"..\"))\n",
    "from utils.datasets import (get_wine_dataset, label_encode, split_transpose)\n",
    "from base.qda import TensorizedQDA"
   ]
  },
  {
   "cell_type": "markdown",
   "id": "94dfb1c3",
   "metadata": {},
   "source": [
    "# Función análisis (TensorizedQDA)"
   ]
  },
  {
   "cell_type": "code",
   "execution_count": 2,
   "id": "94d77e6b",
   "metadata": {},
   "outputs": [],
   "source": [
    "def ejemplo_dataset(loader_func):\n",
    "\n",
    "    # Carga\n",
    "\n",
    "    X_full, y_full = loader_func()\n",
    "    X_full.shape, y_full.shape\n",
    "\n",
    "    # Codifica etiquetas\n",
    "\n",
    "    y_full_encoded = label_encode(y_full)\n",
    "\n",
    "    # Separa train y test\n",
    "\n",
    "    X_train, X_test, y_train, y_test = split_transpose(X_full, y_full_encoded, 0.300, 1265)\n",
    "\n",
    "    # Crea clasificador\n",
    "\n",
    "    qda = TensorizedQDA()\n",
    "\n",
    "    # Entrenamiento\n",
    "    \n",
    "    print(\"\")\n",
    "    print(\"- Entrenamiento:\")\n",
    "\n",
    "    qda.fit(X_train, y_train)\n",
    "\n",
    "    print(f\"  Tipo log_a_priori): {type(qda.log_a_priori)}\")\n",
    "    print(f\"  Cantidad log_a_priori: {len(qda.log_a_priori)}\")\n",
    "    print(f\"  Tipo qda.tensor_means (vectores de medias): {type(qda.tensor_means)}\")\n",
    "    print(f\"  Formato qda.tensor_means: {qda.tensor_means.shape}\")\n",
    "    print(f\"  Tipo qda.tensor_inv_cov(vectores de medias): {type(qda.tensor_inv_cov)}\")\n",
    "    print(f\"  Formato qda.tensor_inv_cov: {qda.tensor_inv_cov.shape}\")\n",
    "\n",
    "    # Clasificacion\n",
    "\n",
    "    print(\"\")\n",
    "    print(\"- Clasificación:\")\n",
    "\n",
    "    print(\"  Formato X_test:\", X_test.shape)\n",
    "    print(\"  Formato y_test:\", y_test.shape)\n",
    "    \n",
    "    y_predict_with_probs = qda.predict_with_probs(X_test)\n",
    "\n",
    "    y_pred_idx   = y_predict_with_probs[:, 0].astype(int)\n",
    "    probs_mat    = y_predict_with_probs[:, 1:]\n",
    "\n",
    "    y_true_idx = np.ravel(y_test).astype(int)\n",
    "\n",
    "    acc = (y_pred_idx == y_true_idx).mean()\n",
    "    print(f\"  Precisión (accuracy): {acc:.3f} ({acc*100:.1f}%)\")\n",
    "\n",
    "    print(\"  Resultados:\")\n",
    "    for i, (pred_i, p) in enumerate(zip(y_pred_idx, probs_mat)):\n",
    "        ok = (pred_i == y_true_idx[i])\n",
    "        mark = \"✓\" if ok else f\"<-- ERROR (true: {y_true_idx[i]}, pred: {pred_i})\"\n",
    "        print(f\"{i:>5} -> clase: {pred_i:>2} | probs: \" + \" \".join(f\"{x:.2f}\" for x in p) + f\"  {mark}\")\n"
   ]
  },
  {
   "cell_type": "markdown",
   "id": "59826109",
   "metadata": {},
   "source": [
    "# Dataset Wine\n",
    "- Tipo / tamaño: 178 muestras, 13 características, 3 clases. \n",
    "- Características: alcohol, malic_acid, ash, alcalinity_of_ash, magnesium, total_phenols, flavanoids, nonflavanoid_phenols, proanthocyanins, color_intensity, hue, od280/od315_of_diluted_wines, proline.\n",
    "- Clases: class_0, class_1, class_2. \n",
    "- Uso típico: clasificación multiclase, ejemplos de selección de variables y reducción de dimensión."
   ]
  },
  {
   "cell_type": "code",
   "execution_count": 3,
   "id": "690cced8",
   "metadata": {},
   "outputs": [
    {
     "name": "stdout",
     "output_type": "stream",
     "text": [
      "\n",
      "- Entrenamiento:\n",
      "  Tipo log_a_priori): <class 'numpy.ndarray'>\n",
      "  Cantidad log_a_priori: 3\n",
      "  Tipo qda.tensor_means (vectores de medias): <class 'numpy.ndarray'>\n",
      "  Formato qda.tensor_means: (3, 13, 1)\n",
      "  Tipo qda.tensor_inv_cov(vectores de medias): <class 'numpy.ndarray'>\n",
      "  Formato qda.tensor_inv_cov: (3, 13, 13)\n",
      "\n",
      "- Clasificación:\n",
      "  Formato X_test: (13, 54)\n",
      "  Formato y_test: (1, 54)\n",
      "  Precisión (accuracy): 0.981 (98.1%)\n",
      "  Resultados:\n",
      "    0 -> clase:  1 | probs: 0.00 1.00 0.00  ✓\n",
      "    1 -> clase:  2 | probs: 0.00 0.00 1.00  ✓\n",
      "    2 -> clase:  0 | probs: 1.00 0.00 0.00  ✓\n",
      "    3 -> clase:  1 | probs: 0.00 1.00 0.00  ✓\n",
      "    4 -> clase:  0 | probs: 1.00 0.00 0.00  ✓\n",
      "    5 -> clase:  1 | probs: 0.00 1.00 0.00  ✓\n",
      "    6 -> clase:  1 | probs: 0.00 1.00 0.00  ✓\n",
      "    7 -> clase:  2 | probs: 0.00 0.00 1.00  ✓\n",
      "    8 -> clase:  0 | probs: 1.00 0.00 0.00  ✓\n",
      "    9 -> clase:  1 | probs: 0.00 1.00 0.00  ✓\n",
      "   10 -> clase:  0 | probs: 1.00 0.00 0.00  ✓\n",
      "   11 -> clase:  2 | probs: 0.00 0.00 1.00  ✓\n",
      "   12 -> clase:  1 | probs: 0.00 1.00 0.00  ✓\n",
      "   13 -> clase:  1 | probs: 0.00 1.00 0.00  ✓\n",
      "   14 -> clase:  1 | probs: 0.00 1.00 0.00  ✓\n",
      "   15 -> clase:  1 | probs: 0.00 1.00 0.00  ✓\n",
      "   16 -> clase:  0 | probs: 1.00 0.00 0.00  ✓\n",
      "   17 -> clase:  1 | probs: 0.00 1.00 0.00  ✓\n",
      "   18 -> clase:  1 | probs: 0.00 1.00 0.00  ✓\n",
      "   19 -> clase:  1 | probs: 0.00 1.00 0.00  ✓\n",
      "   20 -> clase:  1 | probs: 0.00 1.00 0.00  ✓\n",
      "   21 -> clase:  0 | probs: 1.00 0.00 0.00  ✓\n",
      "   22 -> clase:  0 | probs: 1.00 0.00 0.00  ✓\n",
      "   23 -> clase:  0 | probs: 1.00 0.00 0.00  ✓\n",
      "   24 -> clase:  1 | probs: 0.00 1.00 0.00  ✓\n",
      "   25 -> clase:  2 | probs: 0.00 0.00 1.00  ✓\n",
      "   26 -> clase:  1 | probs: 0.00 1.00 0.00  ✓\n",
      "   27 -> clase:  2 | probs: 0.00 0.00 1.00  ✓\n",
      "   28 -> clase:  1 | probs: 0.00 1.00 0.00  ✓\n",
      "   29 -> clase:  2 | probs: 0.00 0.34 0.66  ✓\n",
      "   30 -> clase:  2 | probs: 0.00 0.00 1.00  ✓\n",
      "   31 -> clase:  2 | probs: 0.00 0.00 1.00  ✓\n",
      "   32 -> clase:  1 | probs: 0.00 1.00 0.00  ✓\n",
      "   33 -> clase:  1 | probs: 0.00 1.00 0.00  ✓\n",
      "   34 -> clase:  1 | probs: 0.00 1.00 0.00  ✓\n",
      "   35 -> clase:  1 | probs: 0.00 1.00 0.00  ✓\n",
      "   36 -> clase:  2 | probs: 0.00 0.00 1.00  ✓\n",
      "   37 -> clase:  2 | probs: 0.00 0.00 1.00  ✓\n",
      "   38 -> clase:  1 | probs: 0.00 1.00 0.00  ✓\n",
      "   39 -> clase:  1 | probs: 0.00 1.00 0.00  ✓\n",
      "   40 -> clase:  1 | probs: 0.00 1.00 0.00  ✓\n",
      "   41 -> clase:  2 | probs: 0.00 0.00 1.00  ✓\n",
      "   42 -> clase:  0 | probs: 1.00 0.00 0.00  ✓\n",
      "   43 -> clase:  1 | probs: 0.00 1.00 0.00  ✓\n",
      "   44 -> clase:  1 | probs: 0.00 1.00 0.00  ✓\n",
      "   45 -> clase:  2 | probs: 0.00 0.00 1.00  ✓\n",
      "   46 -> clase:  1 | probs: 0.00 1.00 0.00  ✓\n",
      "   47 -> clase:  1 | probs: 0.00 1.00 0.00  ✓\n",
      "   48 -> clase:  0 | probs: 1.00 0.00 0.00  ✓\n",
      "   49 -> clase:  2 | probs: 0.00 0.00 1.00  ✓\n",
      "   50 -> clase:  1 | probs: 0.11 0.89 0.00  ✓\n",
      "   51 -> clase:  0 | probs: 0.76 0.24 0.00  <-- ERROR (true: 1, pred: 0)\n",
      "   52 -> clase:  2 | probs: 0.00 0.00 1.00  ✓\n",
      "   53 -> clase:  2 | probs: 0.00 0.00 1.00  ✓\n"
     ]
    }
   ],
   "source": [
    "ejemplo_dataset(get_wine_dataset)"
   ]
  }
 ],
 "metadata": {
  "kernelspec": {
   "display_name": "base",
   "language": "python",
   "name": "python3"
  },
  "language_info": {
   "codemirror_mode": {
    "name": "ipython",
    "version": 3
   },
   "file_extension": ".py",
   "mimetype": "text/x-python",
   "name": "python",
   "nbconvert_exporter": "python",
   "pygments_lexer": "ipython3",
   "version": "3.12.7"
  }
 },
 "nbformat": 4,
 "nbformat_minor": 5
}
