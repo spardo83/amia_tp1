{
 "cells": [
  {
   "cell_type": "markdown",
   "metadata": {
    "id": "YoTVCUtTQL6c"
   },
   "source": [
    "# TP 1: LDA/QDA y optimización matemática de modelos"
   ]
  },
  {
   "cell_type": "markdown",
   "metadata": {
    "id": "yniRCxW5X90d"
   },
   "source": [
    "Integrantes:\n",
    "\n",
    "- Brazón, Josmar\n",
    "\n",
    "- Pardo, Sebastián\n",
    "\n",
    "- González, Martín\n",
    "\n",
    "- Losada, Ricardo"
   ]
  },
  {
   "cell_type": "markdown",
   "metadata": {},
   "source": [
    "## Implementaciones y Benchmarks"
   ]
  },
  {
   "cell_type": "markdown",
   "metadata": {},
   "source": [
    "### Colab"
   ]
  },
  {
   "cell_type": "code",
   "execution_count": 2,
   "metadata": {},
   "outputs": [],
   "source": [
    "# Ajusta de entorno en Colab\n",
    "\n",
    "try:\n",
    "    import google.colab\n",
    "    IN_COLAB = True\n",
    "except ImportError:\n",
    "    IN_COLAB = False\n",
    "\n",
    "if IN_COLAB:\n",
    "\n",
    "    !pip install -q numpy pandas matplotlib scipy scikit-learn==1.6.1\n",
    "\n",
    "    !rm -rf /content/amia_tp1\n",
    "    !git clone -q -b para_entregar --single-branch https://github.com/spardo83/amia_tp1.git /content/amia_tp1\n",
    "\n",
    "    # Asegurar los __init__.py en el LUGAR CORRECTO (dentro del repo clonado)\n",
    "    !touch /content/amia_tp1/base/__init__.py\n",
    "    !touch /content/amia_tp1/utils/__init__.py\n",
    "    !ls -lah /content/amia_tp1/base | head -n 20\n",
    "    !ls -lah /content/amia_tp1/utils | head -n 20\n",
    "\n",
    "    import sys, importlib, os\n",
    "    assert os.path.isfile(\"/content/amia_tp1/base/qda.py\"), \"No encuentro base/qda.py en el repo clonado\"\n",
    "    sys.path = ['/content/amia_tp1'] + [p for p in sys.path if p != '/content/amia_tp1']\n",
    "    importlib.invalidate_caches()"
   ]
  },
  {
   "cell_type": "markdown",
   "metadata": {},
   "source": [
    "### Librerias"
   ]
  },
  {
   "cell_type": "code",
   "execution_count": 3,
   "metadata": {},
   "outputs": [],
   "source": [
    "# Importar librerias\n",
    "\n",
    "import numpy as np\n",
    "import matplotlib.pyplot as plt\n",
    "\n",
    "from base.qda import QDA, TensorizedQDA\n",
    "from base.cholesky import QDA_Chol1, QDA_Chol2, QDA_Chol3\n",
    "from utils.bench import Benchmark\n",
    "from utils.datasets import get_wine_dataset, label_encode"
   ]
  },
  {
   "cell_type": "markdown",
   "metadata": {
    "id": "mb5VEpEugFXW"
   },
   "source": [
    "### Dataset Wine"
   ]
  },
  {
   "cell_type": "code",
   "execution_count": 4,
   "metadata": {},
   "outputs": [],
   "source": [
    "# levantamos el dataset Wine, que tiene 13 features y 178 observaciones en total\n",
    "\n",
    "X_full, y_full = get_wine_dataset()\n",
    "\n",
    "# encodeamos a número las clases\n",
    "\n",
    "y_full_encoded = label_encode(y_full)"
   ]
  },
  {
   "cell_type": "markdown",
   "metadata": {},
   "source": [
    "### Configuración Benchmark"
   ]
  },
  {
   "cell_type": "code",
   "execution_count": 5,
   "metadata": {},
   "outputs": [
    {
     "name": "stdout",
     "output_type": "stream",
     "text": [
      "Benching params:\n",
      "Total runs: 1220\n",
      "Warmup runs: 20\n",
      "Peak Memory usage runs: 200\n",
      "Running time runs: 1000\n",
      "Train size rows (approx): 125\n",
      "Test size rows (approx): 53\n",
      "Test size fraction: 0.3\n"
     ]
    }
   ],
   "source": [
    "# generamos el benchmark\n",
    "\n",
    "b = Benchmark(\n",
    "    X_full, y_full_encoded,\n",
    "    n_runs = 1000,\n",
    "    warmup = 20,\n",
    "    mem_runs = 200,\n",
    "    test_sz = 0.3,\n",
    "    same_splits = False\n",
    ")"
   ]
  },
  {
   "cell_type": "markdown",
   "metadata": {},
   "source": [
    "### QDA y TensorizedQDA"
   ]
  },
  {
   "cell_type": "code",
   "execution_count": 6,
   "metadata": {},
   "outputs": [
    {
     "data": {
      "application/vnd.jupyter.widget-view+json": {
       "model_id": "a7e23cc9d28f4855a8cc85059a8a3ad1",
       "version_major": 2,
       "version_minor": 0
      },
      "text/plain": [
       "QDA (MEM):   0%|          | 0/200 [00:00<?, ?it/s]"
      ]
     },
     "metadata": {},
     "output_type": "display_data"
    },
    {
     "data": {
      "application/vnd.jupyter.widget-view+json": {
       "model_id": "088c88d5a6184830ac8b721e1433b25e",
       "version_major": 2,
       "version_minor": 0
      },
      "text/plain": [
       "QDA (TIME):   0%|          | 0/1000 [00:00<?, ?it/s]"
      ]
     },
     "metadata": {},
     "output_type": "display_data"
    },
    {
     "data": {
      "application/vnd.jupyter.widget-view+json": {
       "model_id": "411c4931125548edb61a27c91aaf5cdb",
       "version_major": 2,
       "version_minor": 0
      },
      "text/plain": [
       "TensorizedQDA (MEM):   0%|          | 0/200 [00:00<?, ?it/s]"
      ]
     },
     "metadata": {},
     "output_type": "display_data"
    },
    {
     "data": {
      "application/vnd.jupyter.widget-view+json": {
       "model_id": "eaaa2ab92af943d3a2224faa89465b95",
       "version_major": 2,
       "version_minor": 0
      },
      "text/plain": [
       "TensorizedQDA (TIME):   0%|          | 0/1000 [00:00<?, ?it/s]"
      ]
     },
     "metadata": {},
     "output_type": "display_data"
    }
   ],
   "source": [
    "# bencheamos un par\n",
    "to_bench = [QDA, TensorizedQDA]\n",
    "\n",
    "for model in to_bench:\n",
    "    b.bench(model)"
   ]
  },
  {
   "cell_type": "markdown",
   "metadata": {},
   "source": [
    "### Implementación FaterQDA"
   ]
  },
  {
   "cell_type": "code",
   "execution_count": 7,
   "metadata": {},
   "outputs": [
    {
     "data": {
      "application/vnd.jupyter.widget-view+json": {
       "model_id": "86d1b078bfc14a698360fbc7c2a633b9",
       "version_major": 2,
       "version_minor": 0
      },
      "text/plain": [
       "FasterQDA (MEM):   0%|          | 0/200 [00:00<?, ?it/s]"
      ]
     },
     "metadata": {},
     "output_type": "display_data"
    },
    {
     "data": {
      "application/vnd.jupyter.widget-view+json": {
       "model_id": "62e6001e971a48529ffa6de8c0c67060",
       "version_major": 2,
       "version_minor": 0
      },
      "text/plain": [
       "FasterQDA (TIME):   0%|          | 0/1000 [00:00<?, ?it/s]"
      ]
     },
     "metadata": {},
     "output_type": "display_data"
    }
   ],
   "source": [
    "class FasterQDA(TensorizedQDA):\n",
    "    def fit(self, X, y):\n",
    "        # y como vector plano\n",
    "        y = y.flatten() if y.ndim > 1 else y\n",
    "\n",
    "        # priors en log\n",
    "        counts = np.bincount(y)\n",
    "        self.log_a_priori = np.log(counts / counts.sum())\n",
    "\n",
    "        # parámetros del modelo (llena inv_covs/means y sus stacks tensoriales)\n",
    "        self._fit_params(X, y)\n",
    "\n",
    "    def predict(self, X):\n",
    "        # Convención del TP: X tiene forma (p, n)\n",
    "        p, n = X.shape\n",
    "\n",
    "        # 1) Restamos medias por clase a TODAS las observaciones a la vez\n",
    "        #    self.tensor_means: (K, p, 1)  -> broadcast con X[None, :, :] (1, p, n)\n",
    "        diffs = X[None, :, :] - self.tensor_means   # -> (K, p, n)\n",
    "\n",
    "        # 2) Forma cuadrática: (x-μ)^T Σ^{-1} (x-μ) en bloque\n",
    "        #    inv: (K, p, p)  y diffs: (K, p, n)\n",
    "        #    resultado intermedio: (K, p, n)\n",
    "        left = np.einsum('kpq,kqn->kpn', self.tensor_inv_cov, diffs)\n",
    "\n",
    "        #    producto elemento a elemento y suma en \"p\" -> (K, n)\n",
    "        quad = np.einsum('kpn,kpn->kn', diffs, left)\n",
    "\n",
    "        # 3) Términos extra por clase\n",
    "        log_dets = np.log(np.linalg.det(self.tensor_inv_cov))      # (K,)\n",
    "        scores = (-0.5 * quad - 0.5 * log_dets[:, None] + self.log_a_priori[:, None]).T  # (n, K)\n",
    "\n",
    "        # 4) Elegimos la clase ganadora por observación\n",
    "        return np.argmax(scores, axis=1).reshape(-1, 1)\n",
    "    \n",
    "b.bench(FasterQDA)\n"
   ]
  },
  {
   "cell_type": "markdown",
   "metadata": {},
   "source": [
    "### EfficientQDA"
   ]
  },
  {
   "cell_type": "code",
   "execution_count": 8,
   "metadata": {},
   "outputs": [
    {
     "data": {
      "application/vnd.jupyter.widget-view+json": {
       "model_id": "7319203fef5e48e389e4f8ccf4b03150",
       "version_major": 2,
       "version_minor": 0
      },
      "text/plain": [
       "EfficientQDA (MEM):   0%|          | 0/200 [00:00<?, ?it/s]"
      ]
     },
     "metadata": {},
     "output_type": "display_data"
    },
    {
     "data": {
      "application/vnd.jupyter.widget-view+json": {
       "model_id": "c6af07f081454b65b3035a99a481c647",
       "version_major": 2,
       "version_minor": 0
      },
      "text/plain": [
       "EfficientQDA (TIME):   0%|          | 0/1000 [00:00<?, ?it/s]"
      ]
     },
     "metadata": {},
     "output_type": "display_data"
    }
   ],
   "source": [
    "class EfficientQDA(TensorizedQDA):\n",
    "    def fit(self, X, y):\n",
    "        # y vector plano\n",
    "        y = y.flatten() if y.ndim > 1 else y\n",
    "        # log-priors por clase\n",
    "        counts = np.bincount(y)\n",
    "        self.log_a_priori = np.log(counts / counts.sum())\n",
    "        # parámetros (inv covs y medias apiladas)\n",
    "        self._fit_params(X, y)\n",
    "        # opcional\n",
    "        self.n_classes_ = len(self.log_a_priori)\n",
    "        return self\n",
    "\n",
    "    def predict(self, X):\n",
    "        # *** Convención del TP: X debe ser (p, n) ***\n",
    "        # Si viniera como (n, p), lo giro para que p coincida con self.tensor_means\n",
    "        p_expected = self.tensor_means.shape[1]  # (K, p, 1)\n",
    "        if X.shape[0] != p_expected:\n",
    "            X = X.T  # ahora X es (p, n)\n",
    "\n",
    "        # diffs: (K, p, n)  ← restamos medias por clase a TODAS las observaciones\n",
    "        diffs = X[None, :, :] - self.tensor_means   # (K, p, n)\n",
    "\n",
    "        # Aplicamos Σ^{-1} sin formar n×n:\n",
    "        # left = Σ^{-1} * diffs  → (K, p, n)\n",
    "        left = np.einsum('kpq,kqn->kpn', self.tensor_inv_cov, diffs)\n",
    "\n",
    "        # Forma cuadrática por clase y observación: sumo en la dimensión p\n",
    "        # quad[k, i] = sum_p diffs[k,p,i] * left[k,p,i]\n",
    "        quad = np.einsum('kpn,kpn->kn', diffs, left)  # (K, n)\n",
    "\n",
    "        # Términos por clase\n",
    "        log_dets = np.log(np.linalg.det(self.tensor_inv_cov))      # (K,)\n",
    "        scores = (-0.5 * quad\n",
    "                  - 0.5 * log_dets[:, None]\n",
    "                  + self.log_a_priori[:, None])                    # (K, n)\n",
    "\n",
    "        # Ganadora por observación\n",
    "        return np.argmax(scores, axis=0).reshape(-1, 1)\n",
    "    \n",
    "b.bench(EfficientQDA)\n"
   ]
  },
  {
   "cell_type": "markdown",
   "metadata": {},
   "source": [
    "### Chol1 Chol2 y Chol3"
   ]
  },
  {
   "cell_type": "code",
   "execution_count": 9,
   "metadata": {},
   "outputs": [
    {
     "data": {
      "application/vnd.jupyter.widget-view+json": {
       "model_id": "3ee15805bac14e19944d2f80df3a41bf",
       "version_major": 2,
       "version_minor": 0
      },
      "text/plain": [
       "QDA_Chol1 (MEM):   0%|          | 0/200 [00:00<?, ?it/s]"
      ]
     },
     "metadata": {},
     "output_type": "display_data"
    },
    {
     "data": {
      "application/vnd.jupyter.widget-view+json": {
       "model_id": "b43430d07a944ef38da69dbefe60368c",
       "version_major": 2,
       "version_minor": 0
      },
      "text/plain": [
       "QDA_Chol1 (TIME):   0%|          | 0/1000 [00:00<?, ?it/s]"
      ]
     },
     "metadata": {},
     "output_type": "display_data"
    },
    {
     "data": {
      "application/vnd.jupyter.widget-view+json": {
       "model_id": "43bc81e22ae04dafb8263cdefab69c63",
       "version_major": 2,
       "version_minor": 0
      },
      "text/plain": [
       "QDA_Chol2 (MEM):   0%|          | 0/200 [00:00<?, ?it/s]"
      ]
     },
     "metadata": {},
     "output_type": "display_data"
    },
    {
     "data": {
      "application/vnd.jupyter.widget-view+json": {
       "model_id": "945316d6f3904473aa88859898d8f5f5",
       "version_major": 2,
       "version_minor": 0
      },
      "text/plain": [
       "QDA_Chol2 (TIME):   0%|          | 0/1000 [00:00<?, ?it/s]"
      ]
     },
     "metadata": {},
     "output_type": "display_data"
    },
    {
     "data": {
      "application/vnd.jupyter.widget-view+json": {
       "model_id": "916ebab1951144b0a366f815970b54c4",
       "version_major": 2,
       "version_minor": 0
      },
      "text/plain": [
       "QDA_Chol3 (MEM):   0%|          | 0/200 [00:00<?, ?it/s]"
      ]
     },
     "metadata": {},
     "output_type": "display_data"
    },
    {
     "data": {
      "application/vnd.jupyter.widget-view+json": {
       "model_id": "62848d48dade47a8aa932a6e7b17c622",
       "version_major": 2,
       "version_minor": 0
      },
      "text/plain": [
       "QDA_Chol3 (TIME):   0%|          | 0/1000 [00:00<?, ?it/s]"
      ]
     },
     "metadata": {},
     "output_type": "display_data"
    }
   ],
   "source": [
    "b.bench(QDA_Chol1)\n",
    "b.bench(QDA_Chol2)\n",
    "b.bench(QDA_Chol3)"
   ]
  },
  {
   "cell_type": "markdown",
   "metadata": {},
   "source": [
    "### TensorizedChol"
   ]
  },
  {
   "cell_type": "code",
   "execution_count": 10,
   "metadata": {},
   "outputs": [
    {
     "data": {
      "application/vnd.jupyter.widget-view+json": {
       "model_id": "6bca0c39a70b4f51a7937ab0bbac35e3",
       "version_major": 2,
       "version_minor": 0
      },
      "text/plain": [
       "TensorizedChol (MEM):   0%|          | 0/200 [00:00<?, ?it/s]"
      ]
     },
     "metadata": {},
     "output_type": "display_data"
    },
    {
     "data": {
      "application/vnd.jupyter.widget-view+json": {
       "model_id": "907507eafe52499ca5f3746b5ef7c7e4",
       "version_major": 2,
       "version_minor": 0
      },
      "text/plain": [
       "TensorizedChol (TIME):   0%|          | 0/1000 [00:00<?, ?it/s]"
      ]
     },
     "metadata": {},
     "output_type": "display_data"
    }
   ],
   "source": [
    "class TensorizedChol(QDA_Chol1):\n",
    "    __name__ = \"TensorizedChol\"\n",
    "\n",
    "    def _fit_params(self, X, y):\n",
    "        # Reutilizamos el ajuste de QDA_Chol1 (calcula self.L_invs y self.means)\n",
    "        super()._fit_params(X, y)\n",
    "\n",
    "        # Tensores para vectorizar\n",
    "        self.tensor_L_invs = np.stack(self.L_invs)              # (k, p, p)\n",
    "        self.tensor_means  = np.stack(self.means)               # (k, p, 1)\n",
    "\n",
    "        # log(prod(diag(L_inv))) por clase (vectorizado)\n",
    "        diag_Linv = np.diagonal(self.tensor_L_invs, axis1=1, axis2=2)   # (k, p)\n",
    "        self.log_diag_Linv_prod = np.sum(np.log(diag_Linv), axis=1)     # (k,)\n",
    "\n",
    "    def _predict_log_conditionals(self, x):\n",
    "        # x: (p,1) o (p,), lo normalizamos a (p,1)\n",
    "        x = x.reshape(-1, 1)\n",
    "        # (k, p, 1)\n",
    "        unbiased = x[None, :, :] - self.tensor_means\n",
    "        # y = L_inv @ (x - mu) -> (k, p, 1)\n",
    "        y = self.tensor_L_invs @ unbiased\n",
    "        quad = np.sum(y**2, axis=1).reshape(-1)           # (k,)\n",
    "        # log P(x|k) hasta constante\n",
    "        return self.log_diag_Linv_prod - 0.5*quad\n",
    "\n",
    "    def _predict_one(self, x):\n",
    "        return np.argmax(self.log_a_priori + self._predict_log_conditionals(x))\n",
    "\n",
    "b.bench(TensorizedChol)\n",
    "\n",
    "\n"
   ]
  },
  {
   "cell_type": "markdown",
   "metadata": {},
   "source": [
    "### EfficientChol"
   ]
  },
  {
   "cell_type": "code",
   "execution_count": 11,
   "metadata": {},
   "outputs": [
    {
     "data": {
      "application/vnd.jupyter.widget-view+json": {
       "model_id": "7f3f94749b294cd0bc1c02aaea90744b",
       "version_major": 2,
       "version_minor": 0
      },
      "text/plain": [
       "EfficientChol (MEM):   0%|          | 0/200 [00:00<?, ?it/s]"
      ]
     },
     "metadata": {},
     "output_type": "display_data"
    },
    {
     "data": {
      "application/vnd.jupyter.widget-view+json": {
       "model_id": "ce664698d29447afb8debd2e3fa7fc42",
       "version_major": 2,
       "version_minor": 0
      },
      "text/plain": [
       "EfficientChol (TIME):   0%|          | 0/1000 [00:00<?, ?it/s]"
      ]
     },
     "metadata": {},
     "output_type": "display_data"
    }
   ],
   "source": [
    "class EfficientChol(TensorizedChol):\n",
    "    __name__ = \"EfficientChol\"\n",
    "\n",
    "    def fit(self, X, y):\n",
    "        super().fit(X, y)\n",
    "        # También guardo medias en (k,p) para broadcasting con X en (n,p)\n",
    "        self.means_2d = np.concatenate([m.T for m in self.means], axis=0)  # (k, p)\n",
    "        return self\n",
    "\n",
    "    def predict(self, X):\n",
    "        # Aceptamos X en (n,p) o (p,n); lo dejamos en (n,p)\n",
    "        X = X if X.shape[0] >= X.shape[1] else X.T\n",
    "        n, p = X.shape\n",
    "        k = self.tensor_L_invs.shape[0]\n",
    "\n",
    "        # diffs: (n, k, p)\n",
    "        diffs = X[:, None, :] - self.means_2d[None, :, :]\n",
    "\n",
    "        # y = L_inv @ (x - mu) para todos n,k en lote:\n",
    "        #   L_inv: (k,p,p)  -> expandimos a (1,k,p,p)\n",
    "        #   diffs: (n,k,p)  -> expandimos a (n,k,p,1)\n",
    "        y = np.matmul(self.tensor_L_invs[None, :, :, :], diffs[..., None])   # (n,k,p,1)\n",
    "        y = y.squeeze(-1)                                                    # (n,k,p)\n",
    "\n",
    "        quad = np.sum(y**2, axis=2)                    # (n,k)\n",
    "        scores = -0.5*quad \\\n",
    "                 + self.log_diag_Linv_prod[None, :] \\\n",
    "                 + self.log_a_priori[None, :]\n",
    "        return np.argmax(scores, axis=1)\n",
    "    \n",
    "b.bench(EfficientChol)"
   ]
  },
  {
   "cell_type": "markdown",
   "metadata": {},
   "source": [
    "### Comparativa Benchmarks"
   ]
  },
  {
   "cell_type": "markdown",
   "metadata": {},
   "source": [
    "#### General"
   ]
  },
  {
   "cell_type": "code",
   "execution_count": 12,
   "metadata": {},
   "outputs": [
    {
     "data": {
      "text/html": [
       "<div>\n",
       "<style scoped>\n",
       "    .dataframe tbody tr th:only-of-type {\n",
       "        vertical-align: middle;\n",
       "    }\n",
       "\n",
       "    .dataframe tbody tr th {\n",
       "        vertical-align: top;\n",
       "    }\n",
       "\n",
       "    .dataframe thead th {\n",
       "        text-align: right;\n",
       "    }\n",
       "</style>\n",
       "<table border=\"1\" class=\"dataframe\">\n",
       "  <thead>\n",
       "    <tr style=\"text-align: right;\">\n",
       "      <th></th>\n",
       "      <th>train_median_ms</th>\n",
       "      <th>train_std_ms</th>\n",
       "      <th>test_median_ms</th>\n",
       "      <th>test_std_ms</th>\n",
       "      <th>mean_accuracy</th>\n",
       "      <th>train_mem_median_mb</th>\n",
       "      <th>train_mem_std_mb</th>\n",
       "      <th>test_mem_median_mb</th>\n",
       "      <th>test_mem_std_mb</th>\n",
       "    </tr>\n",
       "    <tr>\n",
       "      <th>model</th>\n",
       "      <th></th>\n",
       "      <th></th>\n",
       "      <th></th>\n",
       "      <th></th>\n",
       "      <th></th>\n",
       "      <th></th>\n",
       "      <th></th>\n",
       "      <th></th>\n",
       "      <th></th>\n",
       "    </tr>\n",
       "  </thead>\n",
       "  <tbody>\n",
       "    <tr>\n",
       "      <th>QDA</th>\n",
       "      <td>0.117667</td>\n",
       "      <td>0.120334</td>\n",
       "      <td>1.270063</td>\n",
       "      <td>0.905814</td>\n",
       "      <td>0.984556</td>\n",
       "      <td>0.018402</td>\n",
       "      <td>0.000903</td>\n",
       "      <td>0.008101</td>\n",
       "      <td>0.000250</td>\n",
       "    </tr>\n",
       "    <tr>\n",
       "      <th>TensorizedQDA</th>\n",
       "      <td>0.120729</td>\n",
       "      <td>0.186903</td>\n",
       "      <td>0.612188</td>\n",
       "      <td>0.512444</td>\n",
       "      <td>0.983426</td>\n",
       "      <td>0.018311</td>\n",
       "      <td>0.000859</td>\n",
       "      <td>0.011993</td>\n",
       "      <td>0.000195</td>\n",
       "    </tr>\n",
       "    <tr>\n",
       "      <th>FasterQDA</th>\n",
       "      <td>0.114125</td>\n",
       "      <td>0.052496</td>\n",
       "      <td>0.041750</td>\n",
       "      <td>0.020826</td>\n",
       "      <td>0.939722</td>\n",
       "      <td>0.019165</td>\n",
       "      <td>0.000885</td>\n",
       "      <td>0.058876</td>\n",
       "      <td>0.000152</td>\n",
       "    </tr>\n",
       "    <tr>\n",
       "      <th>EfficientQDA</th>\n",
       "      <td>0.112166</td>\n",
       "      <td>0.101928</td>\n",
       "      <td>0.041667</td>\n",
       "      <td>0.047427</td>\n",
       "      <td>0.938741</td>\n",
       "      <td>0.019463</td>\n",
       "      <td>0.000910</td>\n",
       "      <td>0.058876</td>\n",
       "      <td>0.000124</td>\n",
       "    </tr>\n",
       "    <tr>\n",
       "      <th>QDA_Chol1</th>\n",
       "      <td>0.143875</td>\n",
       "      <td>0.548546</td>\n",
       "      <td>0.747458</td>\n",
       "      <td>1.057606</td>\n",
       "      <td>0.984648</td>\n",
       "      <td>0.018478</td>\n",
       "      <td>0.000927</td>\n",
       "      <td>0.008110</td>\n",
       "      <td>0.000261</td>\n",
       "    </tr>\n",
       "    <tr>\n",
       "      <th>QDA_Chol2</th>\n",
       "      <td>0.109520</td>\n",
       "      <td>0.120654</td>\n",
       "      <td>1.768083</td>\n",
       "      <td>0.441979</td>\n",
       "      <td>0.983500</td>\n",
       "      <td>0.018127</td>\n",
       "      <td>0.000861</td>\n",
       "      <td>0.008342</td>\n",
       "      <td>0.000321</td>\n",
       "    </tr>\n",
       "    <tr>\n",
       "      <th>QDA_Chol3</th>\n",
       "      <td>0.111208</td>\n",
       "      <td>0.065419</td>\n",
       "      <td>0.737938</td>\n",
       "      <td>0.515278</td>\n",
       "      <td>0.984648</td>\n",
       "      <td>0.018333</td>\n",
       "      <td>0.000861</td>\n",
       "      <td>0.007965</td>\n",
       "      <td>0.000255</td>\n",
       "    </tr>\n",
       "    <tr>\n",
       "      <th>TensorizedChol</th>\n",
       "      <td>0.142958</td>\n",
       "      <td>0.067644</td>\n",
       "      <td>0.357667</td>\n",
       "      <td>0.082524</td>\n",
       "      <td>0.983093</td>\n",
       "      <td>0.018478</td>\n",
       "      <td>0.000878</td>\n",
       "      <td>0.012833</td>\n",
       "      <td>0.000178</td>\n",
       "    </tr>\n",
       "    <tr>\n",
       "      <th>EfficientChol</th>\n",
       "      <td>0.143416</td>\n",
       "      <td>0.177191</td>\n",
       "      <td>0.027250</td>\n",
       "      <td>0.040582</td>\n",
       "      <td>0.983852</td>\n",
       "      <td>0.018181</td>\n",
       "      <td>0.000867</td>\n",
       "      <td>0.061203</td>\n",
       "      <td>0.000187</td>\n",
       "    </tr>\n",
       "  </tbody>\n",
       "</table>\n",
       "</div>"
      ],
      "text/plain": [
       "                train_median_ms  train_std_ms  test_median_ms  test_std_ms  \\\n",
       "model                                                                        \n",
       "QDA                    0.117667      0.120334        1.270063     0.905814   \n",
       "TensorizedQDA          0.120729      0.186903        0.612188     0.512444   \n",
       "FasterQDA              0.114125      0.052496        0.041750     0.020826   \n",
       "EfficientQDA           0.112166      0.101928        0.041667     0.047427   \n",
       "QDA_Chol1              0.143875      0.548546        0.747458     1.057606   \n",
       "QDA_Chol2              0.109520      0.120654        1.768083     0.441979   \n",
       "QDA_Chol3              0.111208      0.065419        0.737938     0.515278   \n",
       "TensorizedChol         0.142958      0.067644        0.357667     0.082524   \n",
       "EfficientChol          0.143416      0.177191        0.027250     0.040582   \n",
       "\n",
       "                mean_accuracy  train_mem_median_mb  train_mem_std_mb  \\\n",
       "model                                                                  \n",
       "QDA                  0.984556             0.018402          0.000903   \n",
       "TensorizedQDA        0.983426             0.018311          0.000859   \n",
       "FasterQDA            0.939722             0.019165          0.000885   \n",
       "EfficientQDA         0.938741             0.019463          0.000910   \n",
       "QDA_Chol1            0.984648             0.018478          0.000927   \n",
       "QDA_Chol2            0.983500             0.018127          0.000861   \n",
       "QDA_Chol3            0.984648             0.018333          0.000861   \n",
       "TensorizedChol       0.983093             0.018478          0.000878   \n",
       "EfficientChol        0.983852             0.018181          0.000867   \n",
       "\n",
       "                test_mem_median_mb  test_mem_std_mb  \n",
       "model                                                \n",
       "QDA                       0.008101         0.000250  \n",
       "TensorizedQDA             0.011993         0.000195  \n",
       "FasterQDA                 0.058876         0.000152  \n",
       "EfficientQDA              0.058876         0.000124  \n",
       "QDA_Chol1                 0.008110         0.000261  \n",
       "QDA_Chol2                 0.008342         0.000321  \n",
       "QDA_Chol3                 0.007965         0.000255  \n",
       "TensorizedChol            0.012833         0.000178  \n",
       "EfficientChol             0.061203         0.000187  "
      ]
     },
     "execution_count": 12,
     "metadata": {},
     "output_type": "execute_result"
    }
   ],
   "source": [
    "# hacemos un summary\n",
    "b.summary()"
   ]
  },
  {
   "cell_type": "code",
   "execution_count": 13,
   "metadata": {},
   "outputs": [
    {
     "data": {
      "text/html": [
       "<div>\n",
       "<style scoped>\n",
       "    .dataframe tbody tr th:only-of-type {\n",
       "        vertical-align: middle;\n",
       "    }\n",
       "\n",
       "    .dataframe tbody tr th {\n",
       "        vertical-align: top;\n",
       "    }\n",
       "\n",
       "    .dataframe thead th {\n",
       "        text-align: right;\n",
       "    }\n",
       "</style>\n",
       "<table border=\"1\" class=\"dataframe\">\n",
       "  <thead>\n",
       "    <tr style=\"text-align: right;\">\n",
       "      <th></th>\n",
       "      <th>train_speedup</th>\n",
       "      <th>test_speedup</th>\n",
       "      <th>train_mem_reduction</th>\n",
       "      <th>test_mem_reduction</th>\n",
       "    </tr>\n",
       "    <tr>\n",
       "      <th>model</th>\n",
       "      <th></th>\n",
       "      <th></th>\n",
       "      <th></th>\n",
       "      <th></th>\n",
       "    </tr>\n",
       "  </thead>\n",
       "  <tbody>\n",
       "    <tr>\n",
       "      <th>QDA</th>\n",
       "      <td>1.000000</td>\n",
       "      <td>1.000000</td>\n",
       "      <td>1.000000</td>\n",
       "      <td>1.000000</td>\n",
       "    </tr>\n",
       "    <tr>\n",
       "      <th>TensorizedQDA</th>\n",
       "      <td>0.974634</td>\n",
       "      <td>2.074628</td>\n",
       "      <td>1.005000</td>\n",
       "      <td>0.675413</td>\n",
       "    </tr>\n",
       "    <tr>\n",
       "      <th>FasterQDA</th>\n",
       "      <td>1.031037</td>\n",
       "      <td>30.420724</td>\n",
       "      <td>0.960191</td>\n",
       "      <td>0.137586</td>\n",
       "    </tr>\n",
       "    <tr>\n",
       "      <th>EfficientQDA</th>\n",
       "      <td>1.049044</td>\n",
       "      <td>30.481240</td>\n",
       "      <td>0.945512</td>\n",
       "      <td>0.137586</td>\n",
       "    </tr>\n",
       "    <tr>\n",
       "      <th>QDA_Chol1</th>\n",
       "      <td>0.817842</td>\n",
       "      <td>1.699176</td>\n",
       "      <td>0.995871</td>\n",
       "      <td>0.998824</td>\n",
       "    </tr>\n",
       "    <tr>\n",
       "      <th>QDA_Chol2</th>\n",
       "      <td>1.074384</td>\n",
       "      <td>0.718327</td>\n",
       "      <td>1.015152</td>\n",
       "      <td>0.971076</td>\n",
       "    </tr>\n",
       "    <tr>\n",
       "      <th>QDA_Chol3</th>\n",
       "      <td>1.058080</td>\n",
       "      <td>1.721097</td>\n",
       "      <td>1.003745</td>\n",
       "      <td>1.017002</td>\n",
       "    </tr>\n",
       "    <tr>\n",
       "      <th>TensorizedChol</th>\n",
       "      <td>0.823085</td>\n",
       "      <td>3.550964</td>\n",
       "      <td>0.995871</td>\n",
       "      <td>0.631243</td>\n",
       "    </tr>\n",
       "    <tr>\n",
       "      <th>EfficientChol</th>\n",
       "      <td>0.820460</td>\n",
       "      <td>46.607743</td>\n",
       "      <td>1.012170</td>\n",
       "      <td>0.132355</td>\n",
       "    </tr>\n",
       "  </tbody>\n",
       "</table>\n",
       "</div>"
      ],
      "text/plain": [
       "                train_speedup  test_speedup  train_mem_reduction  \\\n",
       "model                                                              \n",
       "QDA                  1.000000      1.000000             1.000000   \n",
       "TensorizedQDA        0.974634      2.074628             1.005000   \n",
       "FasterQDA            1.031037     30.420724             0.960191   \n",
       "EfficientQDA         1.049044     30.481240             0.945512   \n",
       "QDA_Chol1            0.817842      1.699176             0.995871   \n",
       "QDA_Chol2            1.074384      0.718327             1.015152   \n",
       "QDA_Chol3            1.058080      1.721097             1.003745   \n",
       "TensorizedChol       0.823085      3.550964             0.995871   \n",
       "EfficientChol        0.820460     46.607743             1.012170   \n",
       "\n",
       "                test_mem_reduction  \n",
       "model                               \n",
       "QDA                       1.000000  \n",
       "TensorizedQDA             0.675413  \n",
       "FasterQDA                 0.137586  \n",
       "EfficientQDA              0.137586  \n",
       "QDA_Chol1                 0.998824  \n",
       "QDA_Chol2                 0.971076  \n",
       "QDA_Chol3                 1.017002  \n",
       "TensorizedChol            0.631243  \n",
       "EfficientChol             0.132355  "
      ]
     },
     "execution_count": 13,
     "metadata": {},
     "output_type": "execute_result"
    }
   ],
   "source": [
    "# podemos setear un baseline para que fabrique columnas de comparación\n",
    "\n",
    "summ = b.summary(baseline='QDA')\n",
    "\n",
    "summ[[\n",
    "    'train_speedup', 'test_speedup',\n",
    "    'train_mem_reduction', 'test_mem_reduction'\n",
    "]]"
   ]
  },
  {
   "cell_type": "markdown",
   "metadata": {},
   "source": [
    "#### Ordenados por menor tiempo de test (en train son similares)"
   ]
  },
  {
   "cell_type": "code",
   "execution_count": 14,
   "metadata": {},
   "outputs": [
    {
     "data": {
      "text/html": [
       "<div>\n",
       "<style scoped>\n",
       "    .dataframe tbody tr th:only-of-type {\n",
       "        vertical-align: middle;\n",
       "    }\n",
       "\n",
       "    .dataframe tbody tr th {\n",
       "        vertical-align: top;\n",
       "    }\n",
       "\n",
       "    .dataframe thead th {\n",
       "        text-align: right;\n",
       "    }\n",
       "</style>\n",
       "<table border=\"1\" class=\"dataframe\">\n",
       "  <thead>\n",
       "    <tr style=\"text-align: right;\">\n",
       "      <th></th>\n",
       "      <th>test_median_ms</th>\n",
       "      <th>train_median_ms</th>\n",
       "    </tr>\n",
       "    <tr>\n",
       "      <th>model</th>\n",
       "      <th></th>\n",
       "      <th></th>\n",
       "    </tr>\n",
       "  </thead>\n",
       "  <tbody>\n",
       "    <tr>\n",
       "      <th>EfficientChol</th>\n",
       "      <td>0.027250</td>\n",
       "      <td>0.143416</td>\n",
       "    </tr>\n",
       "    <tr>\n",
       "      <th>EfficientQDA</th>\n",
       "      <td>0.041667</td>\n",
       "      <td>0.112166</td>\n",
       "    </tr>\n",
       "    <tr>\n",
       "      <th>FasterQDA</th>\n",
       "      <td>0.041750</td>\n",
       "      <td>0.114125</td>\n",
       "    </tr>\n",
       "    <tr>\n",
       "      <th>TensorizedChol</th>\n",
       "      <td>0.357667</td>\n",
       "      <td>0.142958</td>\n",
       "    </tr>\n",
       "    <tr>\n",
       "      <th>TensorizedQDA</th>\n",
       "      <td>0.612188</td>\n",
       "      <td>0.120729</td>\n",
       "    </tr>\n",
       "    <tr>\n",
       "      <th>QDA_Chol3</th>\n",
       "      <td>0.737938</td>\n",
       "      <td>0.111208</td>\n",
       "    </tr>\n",
       "    <tr>\n",
       "      <th>QDA_Chol1</th>\n",
       "      <td>0.747458</td>\n",
       "      <td>0.143875</td>\n",
       "    </tr>\n",
       "    <tr>\n",
       "      <th>QDA</th>\n",
       "      <td>1.270063</td>\n",
       "      <td>0.117667</td>\n",
       "    </tr>\n",
       "    <tr>\n",
       "      <th>QDA_Chol2</th>\n",
       "      <td>1.768083</td>\n",
       "      <td>0.109520</td>\n",
       "    </tr>\n",
       "  </tbody>\n",
       "</table>\n",
       "</div>"
      ],
      "text/plain": [
       "                test_median_ms  train_median_ms\n",
       "model                                          \n",
       "EfficientChol         0.027250         0.143416\n",
       "EfficientQDA          0.041667         0.112166\n",
       "FasterQDA             0.041750         0.114125\n",
       "TensorizedChol        0.357667         0.142958\n",
       "TensorizedQDA         0.612188         0.120729\n",
       "QDA_Chol3             0.737938         0.111208\n",
       "QDA_Chol1             0.747458         0.143875\n",
       "QDA                   1.270063         0.117667\n",
       "QDA_Chol2             1.768083         0.109520"
      ]
     },
     "execution_count": 14,
     "metadata": {},
     "output_type": "execute_result"
    }
   ],
   "source": [
    "#ordenado por tiempo\n",
    "summ.sort_values('test_median_ms')[['test_median_ms','train_median_ms']]\n"
   ]
  },
  {
   "cell_type": "code",
   "execution_count": 15,
   "metadata": {},
   "outputs": [
    {
     "data": {
      "image/png": "[encoded data removed]",
      "text/plain": [
       "<Figure size 800x400 with 1 Axes>"
      ]
     },
     "metadata": {},
     "output_type": "display_data"
    }
   ],
   "source": [
    "df = summ.copy()\n",
    "\n",
    "if 'model' not in df.columns:\n",
    "    df = df.reset_index(names='model')\n",
    "\n",
    "df = df.sort_values('test_median_ms', ascending=True)\n",
    "\n",
    "plt.figure(figsize=(8,4))\n",
    "plt.bar(df['model'], df['test_median_ms'])\n",
    "plt.yscale('log')\n",
    "plt.xticks(rotation=45, ha='right')\n",
    "plt.ylabel('Test time (ms) [log]')\n",
    "plt.title('Comparación de tiempos de predicción')\n",
    "plt.tight_layout()\n",
    "plt.show()\n"
   ]
  },
  {
   "cell_type": "markdown",
   "metadata": {},
   "source": [
    "#### Ordenados por menor uso de memoria en test (en train son similares)"
   ]
  },
  {
   "cell_type": "code",
   "execution_count": 16,
   "metadata": {},
   "outputs": [
    {
     "data": {
      "text/html": [
       "<div>\n",
       "<style scoped>\n",
       "    .dataframe tbody tr th:only-of-type {\n",
       "        vertical-align: middle;\n",
       "    }\n",
       "\n",
       "    .dataframe tbody tr th {\n",
       "        vertical-align: top;\n",
       "    }\n",
       "\n",
       "    .dataframe thead th {\n",
       "        text-align: right;\n",
       "    }\n",
       "</style>\n",
       "<table border=\"1\" class=\"dataframe\">\n",
       "  <thead>\n",
       "    <tr style=\"text-align: right;\">\n",
       "      <th></th>\n",
       "      <th>test_mem_median_mb</th>\n",
       "      <th>train_mem_median_mb</th>\n",
       "    </tr>\n",
       "    <tr>\n",
       "      <th>model</th>\n",
       "      <th></th>\n",
       "      <th></th>\n",
       "    </tr>\n",
       "  </thead>\n",
       "  <tbody>\n",
       "    <tr>\n",
       "      <th>QDA_Chol3</th>\n",
       "      <td>0.007965</td>\n",
       "      <td>0.018333</td>\n",
       "    </tr>\n",
       "    <tr>\n",
       "      <th>QDA</th>\n",
       "      <td>0.008101</td>\n",
       "      <td>0.018402</td>\n",
       "    </tr>\n",
       "    <tr>\n",
       "      <th>QDA_Chol1</th>\n",
       "      <td>0.008110</td>\n",
       "      <td>0.018478</td>\n",
       "    </tr>\n",
       "    <tr>\n",
       "      <th>QDA_Chol2</th>\n",
       "      <td>0.008342</td>\n",
       "      <td>0.018127</td>\n",
       "    </tr>\n",
       "    <tr>\n",
       "      <th>TensorizedQDA</th>\n",
       "      <td>0.011993</td>\n",
       "      <td>0.018311</td>\n",
       "    </tr>\n",
       "    <tr>\n",
       "      <th>TensorizedChol</th>\n",
       "      <td>0.012833</td>\n",
       "      <td>0.018478</td>\n",
       "    </tr>\n",
       "    <tr>\n",
       "      <th>FasterQDA</th>\n",
       "      <td>0.058876</td>\n",
       "      <td>0.019165</td>\n",
       "    </tr>\n",
       "    <tr>\n",
       "      <th>EfficientQDA</th>\n",
       "      <td>0.058876</td>\n",
       "      <td>0.019463</td>\n",
       "    </tr>\n",
       "    <tr>\n",
       "      <th>EfficientChol</th>\n",
       "      <td>0.061203</td>\n",
       "      <td>0.018181</td>\n",
       "    </tr>\n",
       "  </tbody>\n",
       "</table>\n",
       "</div>"
      ],
      "text/plain": [
       "                test_mem_median_mb  train_mem_median_mb\n",
       "model                                                  \n",
       "QDA_Chol3                 0.007965             0.018333\n",
       "QDA                       0.008101             0.018402\n",
       "QDA_Chol1                 0.008110             0.018478\n",
       "QDA_Chol2                 0.008342             0.018127\n",
       "TensorizedQDA             0.011993             0.018311\n",
       "TensorizedChol            0.012833             0.018478\n",
       "FasterQDA                 0.058876             0.019165\n",
       "EfficientQDA              0.058876             0.019463\n",
       "EfficientChol             0.061203             0.018181"
      ]
     },
     "execution_count": 16,
     "metadata": {},
     "output_type": "execute_result"
    }
   ],
   "source": [
    "#ordenado por tiempo\n",
    "summ.sort_values('test_mem_median_mb')[['test_mem_median_mb','train_mem_median_mb']]"
   ]
  },
  {
   "cell_type": "code",
   "execution_count": 17,
   "metadata": {},
   "outputs": [
    {
     "data": {
      "image/png": "[encoded data removed]",
      "text/plain": [
       "<Figure size 800x400 with 1 Axes>"
      ]
     },
     "metadata": {},
     "output_type": "display_data"
    }
   ],
   "source": [
    "df = summ.copy()\n",
    "if 'model' not in df.columns:\n",
    "    df = df.reset_index(names='model')\n",
    "\n",
    "df = df.sort_values('test_mem_median_mb', ascending=True)\n",
    "\n",
    "plt.figure(figsize=(8,4))\n",
    "plt.bar(df['model'], df['test_mem_median_mb'])\n",
    "plt.yscale('log')\n",
    "plt.xticks(rotation=45, ha='right')\n",
    "plt.ylabel('Peak test memory (MB) [log]')\n",
    "plt.title('Uso de memoria en predicción')\n",
    "plt.tight_layout()\n",
    "plt.show()"
   ]
  },
  {
   "cell_type": "markdown",
   "metadata": {},
   "source": [
    "#### La precision es muy alta y similar en todos"
   ]
  },
  {
   "cell_type": "code",
   "execution_count": 18,
   "metadata": {},
   "outputs": [
    {
     "data": {
      "image/png": "[encoded data removed]",
      "text/plain": [
       "<Figure size 800x400 with 1 Axes>"
      ]
     },
     "metadata": {},
     "output_type": "display_data"
    }
   ],
   "source": [
    "df = summ.copy()\n",
    "if 'model' not in df.columns:\n",
    "    df = df.reset_index(names='model')\n",
    "\n",
    "df['acc_%'] = 100 * df['mean_accuracy']\n",
    "df = df.sort_values('acc_%', ascending=False)\n",
    "\n",
    "plt.figure(figsize=(8,4))\n",
    "plt.bar(df['model'], df['acc_%'])\n",
    "plt.xticks(rotation=45, ha='right')\n",
    "plt.ylabel('Accuracy (%)')\n",
    "plt.title('Accuracy por modelo')\n",
    "plt.tight_layout()\n",
    "plt.show()\n"
   ]
  },
  {
   "cell_type": "markdown",
   "metadata": {
    "id": "qcqVvRSLwaEZ"
   },
   "source": [
    "## Importante:\n",
    "\n",
    "Las métricas que se observan al realizar benchmarking son muy dependientes del código que se ejecuta, y por tanto de las versiones de las librerías utilizadas. Una forma de unificar esto es utilizando un gestor de versiones y paquetes como _uv_ o _Poetry_, otra es simplemente usando una misma VM como la que provee Colab.\n",
    "\n",
    "**Cada equipo debe informar las versiones de Python, NumPy y SciPy con que fueron obtenidos los resultados. En caso de que sean múltiples, agregar todos los casos**. La siguiente celda provee una ayuda para hacerlo desde un notebook, aunque como es una secuencia de comandos también sirve para consola."
   ]
  },
  {
   "cell_type": "code",
   "execution_count": 19,
   "metadata": {},
   "outputs": [
    {
     "name": "stdout",
     "output_type": "stream",
     "text": [
      "Python: 3.11.13 (main, Jun 12 2025, 12:22:50) [Clang 20.1.4 ]\n",
      "numpy: 2.3.2\n",
      "scipy: 1.16.1\n"
     ]
    }
   ],
   "source": [
    "# Version que deberia funcionar en todos los entornos\n",
    "\n",
    "import sys\n",
    "print(\"Python:\", sys.version)\n",
    "\n",
    "# importlib.metadata es estándar desde Python 3.8; en Colab también está.\n",
    "try:\n",
    "    from importlib.metadata import version, PackageNotFoundError\n",
    "except Exception:\n",
    "    from importlib_metadata import version, PackageNotFoundError  # backport, por si acaso\n",
    "\n",
    "for pkg in [\"numpy\", \"scipy\"]:\n",
    "    try:\n",
    "        print(f\"{pkg}:\", version(pkg))\n",
    "    except PackageNotFoundError:\n",
    "        print(f\"{pkg}: NO INSTALADO\")"
   ]
  },
  {
   "cell_type": "markdown",
   "metadata": {
    "id": "ifhoRa26X30j"
   },
   "source": [
    "Versiones\n",
    "\n",
    "Python: 3.11.13 (main, Jun  4 2025, 08:57:29) [GCC 11.4.0]\n",
    "\n",
    "numpy: 2.0.2\n",
    "\n",
    "scipy: 1.16.1"
   ]
  }
 ],
 "metadata": {
  "kernelspec": {
   "display_name": "tp1",
   "language": "python",
   "name": "python3"
  },
  "language_info": {
   "codemirror_mode": {
    "name": "ipython",
    "version": 3
   },
   "file_extension": ".py",
   "mimetype": "text/x-python",
   "name": "python",
   "nbconvert_exporter": "python",
   "pygments_lexer": "ipython3",
   "version": "3.11.13"
  }
 },
 "nbformat": 4,
 "nbformat_minor": 0
}
