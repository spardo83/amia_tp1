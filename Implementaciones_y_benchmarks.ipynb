{
 "cells": [
  {
   "cell_type": "markdown",
   "metadata": {
    "id": "YoTVCUtTQL6c"
   },
   "source": [
    "# TP 1: LDA/QDA y optimización matemática de modelos"
   ]
  },
  {
   "cell_type": "markdown",
   "metadata": {
    "id": "yniRCxW5X90d"
   },
   "source": [
    "Integrantes:\n",
    "\n",
    "- Brazón, Josmar\n",
    "\n",
    "- Pardo, Sebastián\n",
    "\n",
    "- González, Martín\n",
    "\n",
    "- Losada, Ricardo"
   ]
  },
  {
   "cell_type": "markdown",
   "metadata": {},
   "source": [
    "## Implementaciones y Benchmarks"
   ]
  },
  {
   "cell_type": "markdown",
   "metadata": {},
   "source": [
    "### Colab"
   ]
  },
  {
   "cell_type": "code",
   "execution_count": 1,
   "metadata": {},
   "outputs": [],
   "source": [
    "# Ajusta de entorno en Colab\n",
    "\n",
    "try:\n",
    "    import google.colab\n",
    "    IN_COLAB = True\n",
    "except ImportError:\n",
    "    IN_COLAB = False\n",
    "\n",
    "if IN_COLAB:\n",
    "\n",
    "    !pip install -q numpy pandas matplotlib scipy scikit-learn==1.6.1\n",
    "\n",
    "    !rm -rf /content/amia_tp1\n",
    "    !git clone -q -b para_entregar --single-branch https://github.com/spardo83/amia_tp1.git /content/amia_tp1\n",
    "\n",
    "    # Asegurar los __init__.py en el LUGAR CORRECTO (dentro del repo clonado)\n",
    "    !touch /content/amia_tp1/base/__init__.py\n",
    "    !touch /content/amia_tp1/utils/__init__.py\n",
    "    !ls -lah /content/amia_tp1/base | head -n 20\n",
    "    !ls -lah /content/amia_tp1/utils | head -n 20\n",
    "\n",
    "    import sys, importlib, os\n",
    "    assert os.path.isfile(\"/content/amia_tp1/base/qda.py\"), \"No encuentro base/qda.py en el repo clonado\"\n",
    "    sys.path = ['/content/amia_tp1'] + [p for p in sys.path if p != '/content/amia_tp1']\n",
    "    importlib.invalidate_caches()"
   ]
  },
  {
   "cell_type": "markdown",
   "metadata": {},
   "source": [
    "### Librerias"
   ]
  },
  {
   "cell_type": "code",
   "execution_count": 2,
   "metadata": {},
   "outputs": [],
   "source": [
    "# Importar librerias\n",
    "\n",
    "import numpy as np\n",
    "import matplotlib.pyplot as plt\n",
    "\n",
    "from base.qda import QDA, TensorizedQDA\n",
    "from base.cholesky import QDA_Chol1, QDA_Chol2, QDA_Chol3\n",
    "from utils.bench import Benchmark\n",
    "from utils.datasets import get_wine_dataset, label_encode"
   ]
  },
  {
   "cell_type": "markdown",
   "metadata": {
    "id": "mb5VEpEugFXW"
   },
   "source": [
    "### Dataset Wine"
   ]
  },
  {
   "cell_type": "code",
   "execution_count": 3,
   "metadata": {},
   "outputs": [],
   "source": [
    "# levantamos el dataset Wine, que tiene 13 features y 178 observaciones en total\n",
    "\n",
    "X_full, y_full = get_wine_dataset()\n",
    "\n",
    "# encodeamos a número las clases\n",
    "\n",
    "y_full_encoded = label_encode(y_full)"
   ]
  },
  {
   "cell_type": "markdown",
   "metadata": {},
   "source": [
    "### Configuración Benchmark"
   ]
  },
  {
   "cell_type": "code",
   "execution_count": 4,
   "metadata": {},
   "outputs": [
    {
     "name": "stdout",
     "output_type": "stream",
     "text": [
      "Benching params:\n",
      "Total runs: 1220\n",
      "Warmup runs: 20\n",
      "Peak Memory usage runs: 200\n",
      "Running time runs: 1000\n",
      "Train size rows (approx): 125\n",
      "Test size rows (approx): 53\n",
      "Test size fraction: 0.3\n"
     ]
    }
   ],
   "source": [
    "# generamos el benchmark\n",
    "\n",
    "b = Benchmark(\n",
    "    X_full, y_full_encoded,\n",
    "    n_runs = 1000,\n",
    "    warmup = 20,\n",
    "    mem_runs = 200,\n",
    "    test_sz = 0.3,\n",
    "    same_splits = False\n",
    ")"
   ]
  },
  {
   "cell_type": "markdown",
   "metadata": {},
   "source": [
    "### QDA y TensorizedQDA"
   ]
  },
  {
   "cell_type": "code",
   "execution_count": 5,
   "metadata": {},
   "outputs": [
    {
     "data": {
      "application/vnd.jupyter.widget-view+json": {
       "model_id": "1bd2e130f86b40c39e6afae18bc2693b",
       "version_major": 2,
       "version_minor": 0
      },
      "text/plain": [
       "QDA (MEM):   0%|          | 0/200 [00:00<?, ?it/s]"
      ]
     },
     "metadata": {},
     "output_type": "display_data"
    },
    {
     "data": {
      "application/vnd.jupyter.widget-view+json": {
       "model_id": "95af29a518c841ca95e5918318390d34",
       "version_major": 2,
       "version_minor": 0
      },
      "text/plain": [
       "QDA (TIME):   0%|          | 0/1000 [00:00<?, ?it/s]"
      ]
     },
     "metadata": {},
     "output_type": "display_data"
    },
    {
     "data": {
      "application/vnd.jupyter.widget-view+json": {
       "model_id": "6569347781754622a3e58db0651e051f",
       "version_major": 2,
       "version_minor": 0
      },
      "text/plain": [
       "TensorizedQDA (MEM):   0%|          | 0/200 [00:00<?, ?it/s]"
      ]
     },
     "metadata": {},
     "output_type": "display_data"
    },
    {
     "data": {
      "application/vnd.jupyter.widget-view+json": {
       "model_id": "ee3abaeb28bf47d7ab73f82c76829ce6",
       "version_major": 2,
       "version_minor": 0
      },
      "text/plain": [
       "TensorizedQDA (TIME):   0%|          | 0/1000 [00:00<?, ?it/s]"
      ]
     },
     "metadata": {},
     "output_type": "display_data"
    }
   ],
   "source": [
    "# bencheamos un par\n",
    "to_bench = [QDA, TensorizedQDA]\n",
    "\n",
    "for model in to_bench:\n",
    "    b.bench(model)"
   ]
  },
  {
   "cell_type": "markdown",
   "metadata": {},
   "source": [
    "### Implementación FaterQDA"
   ]
  },
  {
   "cell_type": "code",
   "execution_count": 6,
   "metadata": {},
   "outputs": [
    {
     "data": {
      "application/vnd.jupyter.widget-view+json": {
       "model_id": "4a1ca107e70e4188897bf090f2e4b42e",
       "version_major": 2,
       "version_minor": 0
      },
      "text/plain": [
       "FasterQDA (MEM):   0%|          | 0/200 [00:00<?, ?it/s]"
      ]
     },
     "metadata": {},
     "output_type": "display_data"
    },
    {
     "data": {
      "application/vnd.jupyter.widget-view+json": {
       "model_id": "b85b781b5ae24921bcef008df37b500a",
       "version_major": 2,
       "version_minor": 0
      },
      "text/plain": [
       "FasterQDA (TIME):   0%|          | 0/1000 [00:00<?, ?it/s]"
      ]
     },
     "metadata": {},
     "output_type": "display_data"
    }
   ],
   "source": [
    "class FasterQDA(TensorizedQDA):\n",
    "    def fit(self, X, y):\n",
    "        # y como vector plano\n",
    "        y = y.flatten() if y.ndim > 1 else y\n",
    "\n",
    "        # priors en log\n",
    "        counts = np.bincount(y)\n",
    "        self.log_a_priori = np.log(counts / counts.sum())\n",
    "\n",
    "        # parámetros del modelo (llena inv_covs/means y sus stacks tensoriales)\n",
    "        self._fit_params(X, y)\n",
    "\n",
    "    def predict(self, X):\n",
    "        # Convención del TP: X tiene forma (p, n)\n",
    "        p, n = X.shape\n",
    "\n",
    "        # 1) Restamos medias por clase a TODAS las observaciones a la vez\n",
    "        #    self.tensor_means: (K, p, 1)  -> broadcast con X[None, :, :] (1, p, n)\n",
    "        diffs = X[None, :, :] - self.tensor_means   # -> (K, p, n)\n",
    "\n",
    "        # 2) Forma cuadrática: (x-μ)^T Σ^{-1} (x-μ) en bloque\n",
    "        #    inv: (K, p, p)  y diffs: (K, p, n)\n",
    "        #    resultado intermedio: (K, p, n)\n",
    "        left = np.einsum('kpq,kqn->kpn', self.tensor_inv_cov, diffs)\n",
    "\n",
    "        #    producto elemento a elemento y suma en \"p\" -> (K, n)\n",
    "        quad = np.einsum('kpn,kpn->kn', diffs, left)\n",
    "\n",
    "        # 3) Términos extra por clase\n",
    "        log_dets = np.log(np.linalg.det(self.tensor_inv_cov))      # (K,)\n",
    "        scores = (-0.5 * quad - 0.5 * log_dets[:, None] + self.log_a_priori[:, None]).T  # (n, K)\n",
    "\n",
    "        # 4) Elegimos la clase ganadora por observación\n",
    "        return np.argmax(scores, axis=1).reshape(-1, 1)\n",
    "    \n",
    "b.bench(FasterQDA)\n"
   ]
  },
  {
   "cell_type": "markdown",
   "metadata": {},
   "source": [
    "### EfficientQDA"
   ]
  },
  {
   "cell_type": "code",
   "execution_count": 7,
   "metadata": {},
   "outputs": [
    {
     "data": {
      "application/vnd.jupyter.widget-view+json": {
       "model_id": "33d14c92c9b64f9ab3995402e9db9696",
       "version_major": 2,
       "version_minor": 0
      },
      "text/plain": [
       "EfficientQDA (MEM):   0%|          | 0/200 [00:00<?, ?it/s]"
      ]
     },
     "metadata": {},
     "output_type": "display_data"
    },
    {
     "data": {
      "application/vnd.jupyter.widget-view+json": {
       "model_id": "057638d43f064dfcb7c62bd83dbb56dd",
       "version_major": 2,
       "version_minor": 0
      },
      "text/plain": [
       "EfficientQDA (TIME):   0%|          | 0/1000 [00:00<?, ?it/s]"
      ]
     },
     "metadata": {},
     "output_type": "display_data"
    }
   ],
   "source": [
    "class EfficientQDA(TensorizedQDA):\n",
    "    def fit(self, X, y):\n",
    "        # y vector plano\n",
    "        y = y.flatten() if y.ndim > 1 else y\n",
    "        # log-priors por clase\n",
    "        counts = np.bincount(y)\n",
    "        self.log_a_priori = np.log(counts / counts.sum())\n",
    "        # parámetros (inv covs y medias apiladas)\n",
    "        self._fit_params(X, y)\n",
    "        # opcional\n",
    "        self.n_classes_ = len(self.log_a_priori)\n",
    "        return self\n",
    "\n",
    "    def predict(self, X):\n",
    "        # *** Convención del TP: X debe ser (p, n) ***\n",
    "        # Si viniera como (n, p), lo giro para que p coincida con self.tensor_means\n",
    "        p_expected = self.tensor_means.shape[1]  # (K, p, 1)\n",
    "        if X.shape[0] != p_expected:\n",
    "            X = X.T  # ahora X es (p, n)\n",
    "\n",
    "        # diffs: (K, p, n)  ← restamos medias por clase a TODAS las observaciones\n",
    "        diffs = X[None, :, :] - self.tensor_means   # (K, p, n)\n",
    "\n",
    "        # Aplicamos Σ^{-1} sin formar n×n:\n",
    "        # left = Σ^{-1} * diffs  → (K, p, n)\n",
    "        left = np.einsum('kpq,kqn->kpn', self.tensor_inv_cov, diffs)\n",
    "\n",
    "        # Forma cuadrática por clase y observación: sumo en la dimensión p\n",
    "        # quad[k, i] = sum_p diffs[k,p,i] * left[k,p,i]\n",
    "        quad = np.einsum('kpn,kpn->kn', diffs, left)  # (K, n)\n",
    "\n",
    "        # Términos por clase\n",
    "        log_dets = np.log(np.linalg.det(self.tensor_inv_cov))      # (K,)\n",
    "        scores = (-0.5 * quad\n",
    "                  - 0.5 * log_dets[:, None]\n",
    "                  + self.log_a_priori[:, None])                    # (K, n)\n",
    "\n",
    "        # Ganadora por observación\n",
    "        return np.argmax(scores, axis=0).reshape(-1, 1)\n",
    "    \n",
    "b.bench(EfficientQDA)\n"
   ]
  },
  {
   "cell_type": "markdown",
   "metadata": {},
   "source": [
    "### Chol1 Chol2 y Chol3"
   ]
  },
  {
   "cell_type": "code",
   "execution_count": 8,
   "metadata": {},
   "outputs": [
    {
     "data": {
      "application/vnd.jupyter.widget-view+json": {
       "model_id": "96c6a58effa049b4a14cea6f5455a32f",
       "version_major": 2,
       "version_minor": 0
      },
      "text/plain": [
       "QDA_Chol1 (MEM):   0%|          | 0/200 [00:00<?, ?it/s]"
      ]
     },
     "metadata": {},
     "output_type": "display_data"
    },
    {
     "data": {
      "application/vnd.jupyter.widget-view+json": {
       "model_id": "8d42adcea8224fce8972ff420a0a69f8",
       "version_major": 2,
       "version_minor": 0
      },
      "text/plain": [
       "QDA_Chol1 (TIME):   0%|          | 0/1000 [00:00<?, ?it/s]"
      ]
     },
     "metadata": {},
     "output_type": "display_data"
    },
    {
     "data": {
      "application/vnd.jupyter.widget-view+json": {
       "model_id": "5950fe1527d14b8c9208fe6c3180b873",
       "version_major": 2,
       "version_minor": 0
      },
      "text/plain": [
       "QDA_Chol2 (MEM):   0%|          | 0/200 [00:00<?, ?it/s]"
      ]
     },
     "metadata": {},
     "output_type": "display_data"
    },
    {
     "data": {
      "application/vnd.jupyter.widget-view+json": {
       "model_id": "8c0f256b8df94622b1cf53b72aa6b6d5",
       "version_major": 2,
       "version_minor": 0
      },
      "text/plain": [
       "QDA_Chol2 (TIME):   0%|          | 0/1000 [00:00<?, ?it/s]"
      ]
     },
     "metadata": {},
     "output_type": "display_data"
    },
    {
     "data": {
      "application/vnd.jupyter.widget-view+json": {
       "model_id": "7185ec7f64c34f4088cf8441d78ab791",
       "version_major": 2,
       "version_minor": 0
      },
      "text/plain": [
       "QDA_Chol3 (MEM):   0%|          | 0/200 [00:00<?, ?it/s]"
      ]
     },
     "metadata": {},
     "output_type": "display_data"
    },
    {
     "data": {
      "application/vnd.jupyter.widget-view+json": {
       "model_id": "3ba67c114ab047af9188fc18c54b8dd6",
       "version_major": 2,
       "version_minor": 0
      },
      "text/plain": [
       "QDA_Chol3 (TIME):   0%|          | 0/1000 [00:00<?, ?it/s]"
      ]
     },
     "metadata": {},
     "output_type": "display_data"
    }
   ],
   "source": [
    "b.bench(QDA_Chol1)\n",
    "b.bench(QDA_Chol2)\n",
    "b.bench(QDA_Chol3)"
   ]
  },
  {
   "cell_type": "markdown",
   "metadata": {},
   "source": [
    "### TensorizedChol"
   ]
  },
  {
   "cell_type": "code",
   "execution_count": 9,
   "metadata": {},
   "outputs": [
    {
     "data": {
      "application/vnd.jupyter.widget-view+json": {
       "model_id": "6369cc5da3974a1cbb34a441d8ab92fa",
       "version_major": 2,
       "version_minor": 0
      },
      "text/plain": [
       "TensorizedChol (MEM):   0%|          | 0/200 [00:00<?, ?it/s]"
      ]
     },
     "metadata": {},
     "output_type": "display_data"
    },
    {
     "data": {
      "application/vnd.jupyter.widget-view+json": {
       "model_id": "2969c0d8a9414392b5f0398262675e33",
       "version_major": 2,
       "version_minor": 0
      },
      "text/plain": [
       "TensorizedChol (TIME):   0%|          | 0/1000 [00:00<?, ?it/s]"
      ]
     },
     "metadata": {},
     "output_type": "display_data"
    }
   ],
   "source": [
    "class TensorizedChol(QDA_Chol1):\n",
    "    __name__ = \"TensorizedChol\"\n",
    "\n",
    "    def _fit_params(self, X, y):\n",
    "        # Reutilizamos el ajuste de QDA_Chol1 (calcula self.L_invs y self.means)\n",
    "        super()._fit_params(X, y)\n",
    "\n",
    "        # Tensores para vectorizar\n",
    "        self.tensor_L_invs = np.stack(self.L_invs)              # (k, p, p)\n",
    "        self.tensor_means  = np.stack(self.means)               # (k, p, 1)\n",
    "\n",
    "        # log(prod(diag(L_inv))) por clase (vectorizado)\n",
    "        diag_Linv = np.diagonal(self.tensor_L_invs, axis1=1, axis2=2)   # (k, p)\n",
    "        self.log_diag_Linv_prod = np.sum(np.log(diag_Linv), axis=1)     # (k,)\n",
    "\n",
    "    def _predict_log_conditionals(self, x):\n",
    "        # x: (p,1) o (p,), lo normalizamos a (p,1)\n",
    "        x = x.reshape(-1, 1)\n",
    "        # (k, p, 1)\n",
    "        unbiased = x[None, :, :] - self.tensor_means\n",
    "        # y = L_inv @ (x - mu) -> (k, p, 1)\n",
    "        y = self.tensor_L_invs @ unbiased\n",
    "        quad = np.sum(y**2, axis=1).reshape(-1)           # (k,)\n",
    "        # log P(x|k) hasta constante\n",
    "        return self.log_diag_Linv_prod - 0.5*quad\n",
    "\n",
    "    def _predict_one(self, x):\n",
    "        return np.argmax(self.log_a_priori + self._predict_log_conditionals(x))\n",
    "\n",
    "b.bench(TensorizedChol)\n",
    "\n",
    "\n"
   ]
  },
  {
   "cell_type": "markdown",
   "metadata": {},
   "source": [
    "### EfficientChol"
   ]
  },
  {
   "cell_type": "code",
   "execution_count": 10,
   "metadata": {},
   "outputs": [
    {
     "data": {
      "application/vnd.jupyter.widget-view+json": {
       "model_id": "50524c03cded4164a790f8354798d37e",
       "version_major": 2,
       "version_minor": 0
      },
      "text/plain": [
       "EfficientChol (MEM):   0%|          | 0/200 [00:00<?, ?it/s]"
      ]
     },
     "metadata": {},
     "output_type": "display_data"
    },
    {
     "data": {
      "application/vnd.jupyter.widget-view+json": {
       "model_id": "6ab64753410743708dd9cb4fdab50717",
       "version_major": 2,
       "version_minor": 0
      },
      "text/plain": [
       "EfficientChol (TIME):   0%|          | 0/1000 [00:00<?, ?it/s]"
      ]
     },
     "metadata": {},
     "output_type": "display_data"
    }
   ],
   "source": [
    "class EfficientChol(TensorizedChol):\n",
    "    __name__ = \"EfficientChol\"\n",
    "\n",
    "    def fit(self, X, y):\n",
    "        super().fit(X, y)\n",
    "        # También guardo medias en (k,p) para broadcasting con X en (n,p)\n",
    "        self.means_2d = np.concatenate([m.T for m in self.means], axis=0)  # (k, p)\n",
    "        return self\n",
    "\n",
    "    def predict(self, X):\n",
    "        # Aceptamos X en (n,p) o (p,n); lo dejamos en (n,p)\n",
    "        X = X if X.shape[0] >= X.shape[1] else X.T\n",
    "        n, p = X.shape\n",
    "        k = self.tensor_L_invs.shape[0]\n",
    "\n",
    "        # diffs: (n, k, p)\n",
    "        diffs = X[:, None, :] - self.means_2d[None, :, :]\n",
    "\n",
    "        # y = L_inv @ (x - mu) para todos n,k en lote:\n",
    "        #   L_inv: (k,p,p)  -> expandimos a (1,k,p,p)\n",
    "        #   diffs: (n,k,p)  -> expandimos a (n,k,p,1)\n",
    "        y = np.matmul(self.tensor_L_invs[None, :, :, :], diffs[..., None])   # (n,k,p,1)\n",
    "        y = y.squeeze(-1)                                                    # (n,k,p)\n",
    "\n",
    "        quad = np.sum(y**2, axis=2)                    # (n,k)\n",
    "        scores = -0.5*quad \\\n",
    "                 + self.log_diag_Linv_prod[None, :] \\\n",
    "                 + self.log_a_priori[None, :]\n",
    "        return np.argmax(scores, axis=1)\n",
    "    \n",
    "b.bench(EfficientChol)"
   ]
  },
  {
   "cell_type": "markdown",
   "metadata": {},
   "source": [
    "### Comparativa Benchmarks"
   ]
  },
  {
   "cell_type": "markdown",
   "metadata": {},
   "source": [
    "#### General"
   ]
  },
  {
   "cell_type": "code",
   "execution_count": 11,
   "metadata": {},
   "outputs": [
    {
     "data": {
      "text/html": [
       "<div>\n",
       "<style scoped>\n",
       "    .dataframe tbody tr th:only-of-type {\n",
       "        vertical-align: middle;\n",
       "    }\n",
       "\n",
       "    .dataframe tbody tr th {\n",
       "        vertical-align: top;\n",
       "    }\n",
       "\n",
       "    .dataframe thead th {\n",
       "        text-align: right;\n",
       "    }\n",
       "</style>\n",
       "<table border=\"1\" class=\"dataframe\">\n",
       "  <thead>\n",
       "    <tr style=\"text-align: right;\">\n",
       "      <th></th>\n",
       "      <th>train_median_ms</th>\n",
       "      <th>train_std_ms</th>\n",
       "      <th>test_median_ms</th>\n",
       "      <th>test_std_ms</th>\n",
       "      <th>mean_accuracy</th>\n",
       "      <th>train_mem_median_mb</th>\n",
       "      <th>train_mem_std_mb</th>\n",
       "      <th>test_mem_median_mb</th>\n",
       "      <th>test_mem_std_mb</th>\n",
       "    </tr>\n",
       "    <tr>\n",
       "      <th>model</th>\n",
       "      <th></th>\n",
       "      <th></th>\n",
       "      <th></th>\n",
       "      <th></th>\n",
       "      <th></th>\n",
       "      <th></th>\n",
       "      <th></th>\n",
       "      <th></th>\n",
       "      <th></th>\n",
       "    </tr>\n",
       "  </thead>\n",
       "  <tbody>\n",
       "    <tr>\n",
       "      <th>QDA</th>\n",
       "      <td>0.107396</td>\n",
       "      <td>0.034054</td>\n",
       "      <td>1.206167</td>\n",
       "      <td>0.114389</td>\n",
       "      <td>0.984556</td>\n",
       "      <td>0.018402</td>\n",
       "      <td>0.000890</td>\n",
       "      <td>0.008101</td>\n",
       "      <td>0.000244</td>\n",
       "    </tr>\n",
       "    <tr>\n",
       "      <th>TensorizedQDA</th>\n",
       "      <td>0.111792</td>\n",
       "      <td>0.062634</td>\n",
       "      <td>0.581854</td>\n",
       "      <td>0.116763</td>\n",
       "      <td>0.983426</td>\n",
       "      <td>0.018311</td>\n",
       "      <td>0.000845</td>\n",
       "      <td>0.011993</td>\n",
       "      <td>0.000196</td>\n",
       "    </tr>\n",
       "    <tr>\n",
       "      <th>FasterQDA</th>\n",
       "      <td>0.104791</td>\n",
       "      <td>0.021252</td>\n",
       "      <td>0.039375</td>\n",
       "      <td>0.019386</td>\n",
       "      <td>0.939722</td>\n",
       "      <td>0.019165</td>\n",
       "      <td>0.000877</td>\n",
       "      <td>0.058876</td>\n",
       "      <td>0.000092</td>\n",
       "    </tr>\n",
       "    <tr>\n",
       "      <th>EfficientQDA</th>\n",
       "      <td>0.106105</td>\n",
       "      <td>0.045661</td>\n",
       "      <td>0.039500</td>\n",
       "      <td>0.023808</td>\n",
       "      <td>0.938741</td>\n",
       "      <td>0.019463</td>\n",
       "      <td>0.000914</td>\n",
       "      <td>0.058876</td>\n",
       "      <td>0.000110</td>\n",
       "    </tr>\n",
       "    <tr>\n",
       "      <th>QDA_Chol1</th>\n",
       "      <td>0.138625</td>\n",
       "      <td>0.080018</td>\n",
       "      <td>0.713125</td>\n",
       "      <td>0.761992</td>\n",
       "      <td>0.984648</td>\n",
       "      <td>0.018478</td>\n",
       "      <td>0.000913</td>\n",
       "      <td>0.008110</td>\n",
       "      <td>0.000273</td>\n",
       "    </tr>\n",
       "    <tr>\n",
       "      <th>QDA_Chol2</th>\n",
       "      <td>0.100521</td>\n",
       "      <td>0.033045</td>\n",
       "      <td>1.627708</td>\n",
       "      <td>0.133348</td>\n",
       "      <td>0.983500</td>\n",
       "      <td>0.018105</td>\n",
       "      <td>0.000858</td>\n",
       "      <td>0.008342</td>\n",
       "      <td>0.000330</td>\n",
       "    </tr>\n",
       "    <tr>\n",
       "      <th>QDA_Chol3</th>\n",
       "      <td>0.105438</td>\n",
       "      <td>0.030723</td>\n",
       "      <td>0.700250</td>\n",
       "      <td>0.068566</td>\n",
       "      <td>0.984648</td>\n",
       "      <td>0.018333</td>\n",
       "      <td>0.000833</td>\n",
       "      <td>0.007965</td>\n",
       "      <td>0.000257</td>\n",
       "    </tr>\n",
       "    <tr>\n",
       "      <th>TensorizedChol</th>\n",
       "      <td>0.136750</td>\n",
       "      <td>0.026077</td>\n",
       "      <td>0.342500</td>\n",
       "      <td>0.033837</td>\n",
       "      <td>0.983093</td>\n",
       "      <td>0.018478</td>\n",
       "      <td>0.000873</td>\n",
       "      <td>0.012833</td>\n",
       "      <td>0.000228</td>\n",
       "    </tr>\n",
       "    <tr>\n",
       "      <th>EfficientChol</th>\n",
       "      <td>0.135167</td>\n",
       "      <td>0.016322</td>\n",
       "      <td>0.026208</td>\n",
       "      <td>0.010766</td>\n",
       "      <td>0.983852</td>\n",
       "      <td>0.018375</td>\n",
       "      <td>0.000868</td>\n",
       "      <td>0.061203</td>\n",
       "      <td>0.000191</td>\n",
       "    </tr>\n",
       "  </tbody>\n",
       "</table>\n",
       "</div>"
      ],
      "text/plain": [
       "                train_median_ms  train_std_ms  test_median_ms  test_std_ms  \\\n",
       "model                                                                        \n",
       "QDA                    0.107396      0.034054        1.206167     0.114389   \n",
       "TensorizedQDA          0.111792      0.062634        0.581854     0.116763   \n",
       "FasterQDA              0.104791      0.021252        0.039375     0.019386   \n",
       "EfficientQDA           0.106105      0.045661        0.039500     0.023808   \n",
       "QDA_Chol1              0.138625      0.080018        0.713125     0.761992   \n",
       "QDA_Chol2              0.100521      0.033045        1.627708     0.133348   \n",
       "QDA_Chol3              0.105438      0.030723        0.700250     0.068566   \n",
       "TensorizedChol         0.136750      0.026077        0.342500     0.033837   \n",
       "EfficientChol          0.135167      0.016322        0.026208     0.010766   \n",
       "\n",
       "                mean_accuracy  train_mem_median_mb  train_mem_std_mb  \\\n",
       "model                                                                  \n",
       "QDA                  0.984556             0.018402          0.000890   \n",
       "TensorizedQDA        0.983426             0.018311          0.000845   \n",
       "FasterQDA            0.939722             0.019165          0.000877   \n",
       "EfficientQDA         0.938741             0.019463          0.000914   \n",
       "QDA_Chol1            0.984648             0.018478          0.000913   \n",
       "QDA_Chol2            0.983500             0.018105          0.000858   \n",
       "QDA_Chol3            0.984648             0.018333          0.000833   \n",
       "TensorizedChol       0.983093             0.018478          0.000873   \n",
       "EfficientChol        0.983852             0.018375          0.000868   \n",
       "\n",
       "                test_mem_median_mb  test_mem_std_mb  \n",
       "model                                                \n",
       "QDA                       0.008101         0.000244  \n",
       "TensorizedQDA             0.011993         0.000196  \n",
       "FasterQDA                 0.058876         0.000092  \n",
       "EfficientQDA              0.058876         0.000110  \n",
       "QDA_Chol1                 0.008110         0.000273  \n",
       "QDA_Chol2                 0.008342         0.000330  \n",
       "QDA_Chol3                 0.007965         0.000257  \n",
       "TensorizedChol            0.012833         0.000228  \n",
       "EfficientChol             0.061203         0.000191  "
      ]
     },
     "execution_count": 11,
     "metadata": {},
     "output_type": "execute_result"
    }
   ],
   "source": [
    "# hacemos un summary\n",
    "b.summary()"
   ]
  },
  {
   "cell_type": "code",
   "execution_count": 12,
   "metadata": {},
   "outputs": [
    {
     "data": {
      "text/html": [
       "<div>\n",
       "<style scoped>\n",
       "    .dataframe tbody tr th:only-of-type {\n",
       "        vertical-align: middle;\n",
       "    }\n",
       "\n",
       "    .dataframe tbody tr th {\n",
       "        vertical-align: top;\n",
       "    }\n",
       "\n",
       "    .dataframe thead th {\n",
       "        text-align: right;\n",
       "    }\n",
       "</style>\n",
       "<table border=\"1\" class=\"dataframe\">\n",
       "  <thead>\n",
       "    <tr style=\"text-align: right;\">\n",
       "      <th></th>\n",
       "      <th>train_speedup</th>\n",
       "      <th>test_speedup</th>\n",
       "      <th>train_mem_reduction</th>\n",
       "      <th>test_mem_reduction</th>\n",
       "    </tr>\n",
       "    <tr>\n",
       "      <th>model</th>\n",
       "      <th></th>\n",
       "      <th></th>\n",
       "      <th></th>\n",
       "      <th></th>\n",
       "    </tr>\n",
       "  </thead>\n",
       "  <tbody>\n",
       "    <tr>\n",
       "      <th>QDA</th>\n",
       "      <td>1.000000</td>\n",
       "      <td>1.000000</td>\n",
       "      <td>1.000000</td>\n",
       "      <td>1.000000</td>\n",
       "    </tr>\n",
       "    <tr>\n",
       "      <th>TensorizedQDA</th>\n",
       "      <td>0.960677</td>\n",
       "      <td>2.072971</td>\n",
       "      <td>1.005000</td>\n",
       "      <td>0.675413</td>\n",
       "    </tr>\n",
       "    <tr>\n",
       "      <th>FasterQDA</th>\n",
       "      <td>1.024854</td>\n",
       "      <td>30.632771</td>\n",
       "      <td>0.960191</td>\n",
       "      <td>0.137586</td>\n",
       "    </tr>\n",
       "    <tr>\n",
       "      <th>EfficientQDA</th>\n",
       "      <td>1.012172</td>\n",
       "      <td>30.535899</td>\n",
       "      <td>0.945512</td>\n",
       "      <td>0.137586</td>\n",
       "    </tr>\n",
       "    <tr>\n",
       "      <th>QDA_Chol1</th>\n",
       "      <td>0.774723</td>\n",
       "      <td>1.691382</td>\n",
       "      <td>0.995871</td>\n",
       "      <td>0.998824</td>\n",
       "    </tr>\n",
       "    <tr>\n",
       "      <th>QDA_Chol2</th>\n",
       "      <td>1.068394</td>\n",
       "      <td>0.741021</td>\n",
       "      <td>1.016435</td>\n",
       "      <td>0.971076</td>\n",
       "    </tr>\n",
       "    <tr>\n",
       "      <th>QDA_Chol3</th>\n",
       "      <td>1.018575</td>\n",
       "      <td>1.722480</td>\n",
       "      <td>1.003745</td>\n",
       "      <td>1.017002</td>\n",
       "    </tr>\n",
       "    <tr>\n",
       "      <th>TensorizedChol</th>\n",
       "      <td>0.785346</td>\n",
       "      <td>3.521655</td>\n",
       "      <td>0.995871</td>\n",
       "      <td>0.631243</td>\n",
       "    </tr>\n",
       "    <tr>\n",
       "      <th>EfficientChol</th>\n",
       "      <td>0.794543</td>\n",
       "      <td>46.022838</td>\n",
       "      <td>1.001453</td>\n",
       "      <td>0.132355</td>\n",
       "    </tr>\n",
       "  </tbody>\n",
       "</table>\n",
       "</div>"
      ],
      "text/plain": [
       "                train_speedup  test_speedup  train_mem_reduction  \\\n",
       "model                                                              \n",
       "QDA                  1.000000      1.000000             1.000000   \n",
       "TensorizedQDA        0.960677      2.072971             1.005000   \n",
       "FasterQDA            1.024854     30.632771             0.960191   \n",
       "EfficientQDA         1.012172     30.535899             0.945512   \n",
       "QDA_Chol1            0.774723      1.691382             0.995871   \n",
       "QDA_Chol2            1.068394      0.741021             1.016435   \n",
       "QDA_Chol3            1.018575      1.722480             1.003745   \n",
       "TensorizedChol       0.785346      3.521655             0.995871   \n",
       "EfficientChol        0.794543     46.022838             1.001453   \n",
       "\n",
       "                test_mem_reduction  \n",
       "model                               \n",
       "QDA                       1.000000  \n",
       "TensorizedQDA             0.675413  \n",
       "FasterQDA                 0.137586  \n",
       "EfficientQDA              0.137586  \n",
       "QDA_Chol1                 0.998824  \n",
       "QDA_Chol2                 0.971076  \n",
       "QDA_Chol3                 1.017002  \n",
       "TensorizedChol            0.631243  \n",
       "EfficientChol             0.132355  "
      ]
     },
     "execution_count": 12,
     "metadata": {},
     "output_type": "execute_result"
    }
   ],
   "source": [
    "# podemos setear un baseline para que fabrique columnas de comparación\n",
    "\n",
    "summ = b.summary(baseline='QDA')\n",
    "\n",
    "summ[[\n",
    "    'train_speedup', 'test_speedup',\n",
    "    'train_mem_reduction', 'test_mem_reduction'\n",
    "]]"
   ]
  },
  {
   "cell_type": "markdown",
   "metadata": {},
   "source": [
    "#### Ordenados por menor tiempo de test (en train son similares)"
   ]
  },
  {
   "cell_type": "code",
   "execution_count": 13,
   "metadata": {},
   "outputs": [
    {
     "data": {
      "text/html": [
       "<div>\n",
       "<style scoped>\n",
       "    .dataframe tbody tr th:only-of-type {\n",
       "        vertical-align: middle;\n",
       "    }\n",
       "\n",
       "    .dataframe tbody tr th {\n",
       "        vertical-align: top;\n",
       "    }\n",
       "\n",
       "    .dataframe thead th {\n",
       "        text-align: right;\n",
       "    }\n",
       "</style>\n",
       "<table border=\"1\" class=\"dataframe\">\n",
       "  <thead>\n",
       "    <tr style=\"text-align: right;\">\n",
       "      <th></th>\n",
       "      <th>test_median_ms</th>\n",
       "      <th>train_median_ms</th>\n",
       "    </tr>\n",
       "    <tr>\n",
       "      <th>model</th>\n",
       "      <th></th>\n",
       "      <th></th>\n",
       "    </tr>\n",
       "  </thead>\n",
       "  <tbody>\n",
       "    <tr>\n",
       "      <th>EfficientChol</th>\n",
       "      <td>0.026208</td>\n",
       "      <td>0.135167</td>\n",
       "    </tr>\n",
       "    <tr>\n",
       "      <th>FasterQDA</th>\n",
       "      <td>0.039375</td>\n",
       "      <td>0.104791</td>\n",
       "    </tr>\n",
       "    <tr>\n",
       "      <th>EfficientQDA</th>\n",
       "      <td>0.039500</td>\n",
       "      <td>0.106105</td>\n",
       "    </tr>\n",
       "    <tr>\n",
       "      <th>TensorizedChol</th>\n",
       "      <td>0.342500</td>\n",
       "      <td>0.136750</td>\n",
       "    </tr>\n",
       "    <tr>\n",
       "      <th>TensorizedQDA</th>\n",
       "      <td>0.581854</td>\n",
       "      <td>0.111792</td>\n",
       "    </tr>\n",
       "    <tr>\n",
       "      <th>QDA_Chol3</th>\n",
       "      <td>0.700250</td>\n",
       "      <td>0.105438</td>\n",
       "    </tr>\n",
       "    <tr>\n",
       "      <th>QDA_Chol1</th>\n",
       "      <td>0.713125</td>\n",
       "      <td>0.138625</td>\n",
       "    </tr>\n",
       "    <tr>\n",
       "      <th>QDA</th>\n",
       "      <td>1.206167</td>\n",
       "      <td>0.107396</td>\n",
       "    </tr>\n",
       "    <tr>\n",
       "      <th>QDA_Chol2</th>\n",
       "      <td>1.627708</td>\n",
       "      <td>0.100521</td>\n",
       "    </tr>\n",
       "  </tbody>\n",
       "</table>\n",
       "</div>"
      ],
      "text/plain": [
       "                test_median_ms  train_median_ms\n",
       "model                                          \n",
       "EfficientChol         0.026208         0.135167\n",
       "FasterQDA             0.039375         0.104791\n",
       "EfficientQDA          0.039500         0.106105\n",
       "TensorizedChol        0.342500         0.136750\n",
       "TensorizedQDA         0.581854         0.111792\n",
       "QDA_Chol3             0.700250         0.105438\n",
       "QDA_Chol1             0.713125         0.138625\n",
       "QDA                   1.206167         0.107396\n",
       "QDA_Chol2             1.627708         0.100521"
      ]
     },
     "execution_count": 13,
     "metadata": {},
     "output_type": "execute_result"
    }
   ],
   "source": [
    "#ordenado por tiempo\n",
    "summ.sort_values('test_median_ms')[['test_median_ms','train_median_ms']]\n"
   ]
  },
  {
   "cell_type": "code",
   "execution_count": 14,
   "metadata": {},
   "outputs": [
    {
     "data": {
      "image/png": "[encoded data removed]",
      "text/plain": [
       "<Figure size 800x400 with 1 Axes>"
      ]
     },
     "metadata": {},
     "output_type": "display_data"
    }
   ],
   "source": [
    "df = summ.copy()\n",
    "\n",
    "if 'model' not in df.columns:\n",
    "    df = df.reset_index(names='model')\n",
    "\n",
    "df = df.sort_values('test_median_ms', ascending=True)\n",
    "\n",
    "plt.figure(figsize=(8,4))\n",
    "plt.bar(df['model'], df['test_median_ms'])\n",
    "plt.yscale('log')\n",
    "plt.xticks(rotation=45, ha='right')\n",
    "plt.ylabel('Test time (ms) [log]')\n",
    "plt.title('Comparación de tiempos de predicción')\n",
    "plt.tight_layout()\n",
    "plt.show()\n"
   ]
  },
  {
   "cell_type": "markdown",
   "metadata": {},
   "source": [
    "#### Ordenados por menor uso de memoria en test (en train son similares)"
   ]
  },
  {
   "cell_type": "code",
   "execution_count": 15,
   "metadata": {},
   "outputs": [
    {
     "data": {
      "text/html": [
       "<div>\n",
       "<style scoped>\n",
       "    .dataframe tbody tr th:only-of-type {\n",
       "        vertical-align: middle;\n",
       "    }\n",
       "\n",
       "    .dataframe tbody tr th {\n",
       "        vertical-align: top;\n",
       "    }\n",
       "\n",
       "    .dataframe thead th {\n",
       "        text-align: right;\n",
       "    }\n",
       "</style>\n",
       "<table border=\"1\" class=\"dataframe\">\n",
       "  <thead>\n",
       "    <tr style=\"text-align: right;\">\n",
       "      <th></th>\n",
       "      <th>test_mem_median_mb</th>\n",
       "      <th>train_mem_median_mb</th>\n",
       "    </tr>\n",
       "    <tr>\n",
       "      <th>model</th>\n",
       "      <th></th>\n",
       "      <th></th>\n",
       "    </tr>\n",
       "  </thead>\n",
       "  <tbody>\n",
       "    <tr>\n",
       "      <th>QDA_Chol3</th>\n",
       "      <td>0.007965</td>\n",
       "      <td>0.018333</td>\n",
       "    </tr>\n",
       "    <tr>\n",
       "      <th>QDA</th>\n",
       "      <td>0.008101</td>\n",
       "      <td>0.018402</td>\n",
       "    </tr>\n",
       "    <tr>\n",
       "      <th>QDA_Chol1</th>\n",
       "      <td>0.008110</td>\n",
       "      <td>0.018478</td>\n",
       "    </tr>\n",
       "    <tr>\n",
       "      <th>QDA_Chol2</th>\n",
       "      <td>0.008342</td>\n",
       "      <td>0.018105</td>\n",
       "    </tr>\n",
       "    <tr>\n",
       "      <th>TensorizedQDA</th>\n",
       "      <td>0.011993</td>\n",
       "      <td>0.018311</td>\n",
       "    </tr>\n",
       "    <tr>\n",
       "      <th>TensorizedChol</th>\n",
       "      <td>0.012833</td>\n",
       "      <td>0.018478</td>\n",
       "    </tr>\n",
       "    <tr>\n",
       "      <th>FasterQDA</th>\n",
       "      <td>0.058876</td>\n",
       "      <td>0.019165</td>\n",
       "    </tr>\n",
       "    <tr>\n",
       "      <th>EfficientQDA</th>\n",
       "      <td>0.058876</td>\n",
       "      <td>0.019463</td>\n",
       "    </tr>\n",
       "    <tr>\n",
       "      <th>EfficientChol</th>\n",
       "      <td>0.061203</td>\n",
       "      <td>0.018375</td>\n",
       "    </tr>\n",
       "  </tbody>\n",
       "</table>\n",
       "</div>"
      ],
      "text/plain": [
       "                test_mem_median_mb  train_mem_median_mb\n",
       "model                                                  \n",
       "QDA_Chol3                 0.007965             0.018333\n",
       "QDA                       0.008101             0.018402\n",
       "QDA_Chol1                 0.008110             0.018478\n",
       "QDA_Chol2                 0.008342             0.018105\n",
       "TensorizedQDA             0.011993             0.018311\n",
       "TensorizedChol            0.012833             0.018478\n",
       "FasterQDA                 0.058876             0.019165\n",
       "EfficientQDA              0.058876             0.019463\n",
       "EfficientChol             0.061203             0.018375"
      ]
     },
     "execution_count": 15,
     "metadata": {},
     "output_type": "execute_result"
    }
   ],
   "source": [
    "#ordenado por tiempo\n",
    "summ.sort_values('test_mem_median_mb')[['test_mem_median_mb','train_mem_median_mb']]"
   ]
  },
  {
   "cell_type": "code",
   "execution_count": 16,
   "metadata": {},
   "outputs": [
    {
     "data": {
      "image/png": "[encoded data removed]",
      "text/plain": [
       "<Figure size 800x400 with 1 Axes>"
      ]
     },
     "metadata": {},
     "output_type": "display_data"
    }
   ],
   "source": [
    "df = summ.copy()\n",
    "if 'model' not in df.columns:\n",
    "    df = df.reset_index(names='model')\n",
    "\n",
    "df = df.sort_values('test_mem_median_mb', ascending=True)\n",
    "\n",
    "plt.figure(figsize=(8,4))\n",
    "plt.bar(df['model'], df['test_mem_median_mb'])\n",
    "plt.yscale('log')\n",
    "plt.xticks(rotation=45, ha='right')\n",
    "plt.ylabel('Peak test memory (MB) [log]')\n",
    "plt.title('Uso de memoria en predicción')\n",
    "plt.tight_layout()\n",
    "plt.show()"
   ]
  },
  {
   "cell_type": "markdown",
   "metadata": {},
   "source": [
    "#### La precision es muy alta y similar en todos"
   ]
  },
  {
   "cell_type": "code",
   "execution_count": 17,
   "metadata": {},
   "outputs": [
    {
     "data": {
      "image/png": "[encoded data removed]",
      "text/plain": [
       "<Figure size 800x400 with 1 Axes>"
      ]
     },
     "metadata": {},
     "output_type": "display_data"
    }
   ],
   "source": [
    "df = summ.copy()\n",
    "if 'model' not in df.columns:\n",
    "    df = df.reset_index(names='model')\n",
    "\n",
    "df['acc_%'] = 100 * df['mean_accuracy']\n",
    "df = df.sort_values('acc_%', ascending=False)\n",
    "\n",
    "plt.figure(figsize=(8,4))\n",
    "plt.bar(df['model'], df['acc_%'])\n",
    "plt.xticks(rotation=45, ha='right')\n",
    "plt.ylabel('Accuracy (%)')\n",
    "plt.title('Accuracy por modelo')\n",
    "plt.tight_layout()\n",
    "plt.show()\n"
   ]
  },
  {
   "cell_type": "markdown",
   "metadata": {
    "id": "qcqVvRSLwaEZ"
   },
   "source": [
    "## Importante:\n",
    "\n",
    "Las métricas que se observan al realizar benchmarking son muy dependientes del código que se ejecuta, y por tanto de las versiones de las librerías utilizadas. Una forma de unificar esto es utilizando un gestor de versiones y paquetes como _uv_ o _Poetry_, otra es simplemente usando una misma VM como la que provee Colab.\n",
    "\n",
    "**Cada equipo debe informar las versiones de Python, NumPy y SciPy con que fueron obtenidos los resultados. En caso de que sean múltiples, agregar todos los casos**. La siguiente celda provee una ayuda para hacerlo desde un notebook, aunque como es una secuencia de comandos también sirve para consola."
   ]
  },
  {
   "cell_type": "code",
   "execution_count": 18,
   "metadata": {},
   "outputs": [
    {
     "name": "stdout",
     "output_type": "stream",
     "text": [
      "Python: 3.11.13 (main, Jun 12 2025, 12:22:50) [Clang 20.1.4 ]\n",
      "numpy: 2.3.2\n",
      "scipy: 1.16.1\n"
     ]
    }
   ],
   "source": [
    "# Version que deberia funcionar en todos los entornos\n",
    "\n",
    "import sys\n",
    "print(\"Python:\", sys.version)\n",
    "\n",
    "# importlib.metadata es estándar desde Python 3.8; en Colab también está.\n",
    "try:\n",
    "    from importlib.metadata import version, PackageNotFoundError\n",
    "except Exception:\n",
    "    from importlib_metadata import version, PackageNotFoundError  # backport, por si acaso\n",
    "\n",
    "for pkg in [\"numpy\", \"scipy\"]:\n",
    "    try:\n",
    "        print(f\"{pkg}:\", version(pkg))\n",
    "    except PackageNotFoundError:\n",
    "        print(f\"{pkg}: NO INSTALADO\")"
   ]
  },
  {
   "cell_type": "markdown",
   "metadata": {
    "id": "ifhoRa26X30j"
   },
   "source": [
    "Versiones\n",
    "\n",
    "Python: 3.11.13 (main, Jun  4 2025, 08:57:29) [GCC 11.4.0]\n",
    "\n",
    "numpy: 2.0.2\n",
    "\n",
    "scipy: 1.16.1"
   ]
  }
 ],
 "metadata": {
  "kernelspec": {
   "display_name": "tp1",
   "language": "python",
   "name": "python3"
  },
  "language_info": {
   "codemirror_mode": {
    "name": "ipython",
    "version": 3
   },
   "file_extension": ".py",
   "mimetype": "text/x-python",
   "name": "python",
   "nbconvert_exporter": "python",
   "pygments_lexer": "ipython3",
   "version": "3.11.13"
  }
 },
 "nbformat": 4,
 "nbformat_minor": 0
}
